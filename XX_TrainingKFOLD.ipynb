{
 "cells": [
  {
   "cell_type": "code",
   "execution_count": 1,
   "metadata": {
    "ExecuteTime": {
     "end_time": "2020-01-14T20:17:18.893830Z",
     "start_time": "2020-01-14T20:17:18.867830Z"
    }
   },
   "outputs": [],
   "source": [
    "%load_ext autoreload\n",
    "%autoreload 2"
   ]
  },
  {
   "cell_type": "code",
   "execution_count": 2,
   "metadata": {
    "ExecuteTime": {
     "end_time": "2020-01-05T16:31:28.941101Z",
     "start_time": "2020-01-05T16:31:28.905099Z"
    }
   },
   "outputs": [],
   "source": [
    "# !pip install tensorflow"
   ]
  },
  {
   "cell_type": "code",
   "execution_count": 2,
   "metadata": {
    "ExecuteTime": {
     "end_time": "2020-01-14T20:17:23.337829Z",
     "start_time": "2020-01-14T20:17:19.691832Z"
    }
   },
   "outputs": [],
   "source": [
    "main_path = r'.'\n",
    "data_path = main_path+'/data'\n",
    "import sys\n",
    "sys.path.append(main_path)\n",
    "from BayDS.lib.pipeline import *\n",
    "from typing import List, Set, Dict, Optional, Any, Tuple, Type, Union\n",
    "from BayDS.lib.io import *\n",
    "from BayDS.lib.training import *\n",
    "import os\n",
    "import pickle"
   ]
  },
  {
   "cell_type": "markdown",
   "metadata": {
    "heading_collapsed": true
   },
   "source": [
    "## Merging original features and best features"
   ]
  },
  {
   "cell_type": "code",
   "execution_count": 2,
   "metadata": {
    "ExecuteTime": {
     "end_time": "2020-01-09T16:57:40.955429Z",
     "start_time": "2020-01-09T16:57:27.426127Z"
    },
    "hidden": true
   },
   "outputs": [],
   "source": [
    "data = pd.read_pickle('./temp/data.pkl')"
   ]
  },
  {
   "cell_type": "code",
   "execution_count": 3,
   "metadata": {
    "ExecuteTime": {
     "end_time": "2020-01-09T16:58:40.972701Z",
     "start_time": "2020-01-09T16:57:41.259414Z"
    },
    "hidden": true
   },
   "outputs": [],
   "source": [
    "best_features = pd.read_parquet('./FE2/Corr_features_3155.pqt')\n"
   ]
  },
  {
   "cell_type": "code",
   "execution_count": 4,
   "metadata": {
    "ExecuteTime": {
     "end_time": "2020-01-09T16:58:42.071714Z",
     "start_time": "2020-01-09T16:58:42.029699Z"
    },
    "hidden": true
   },
   "outputs": [],
   "source": [
    "best_features['userid'] = data['userid']\n"
   ]
  },
  {
   "cell_type": "code",
   "execution_count": 5,
   "metadata": {
    "ExecuteTime": {
     "end_time": "2020-01-09T17:06:05.619848Z",
     "start_time": "2020-01-09T16:58:43.205582Z"
    },
    "hidden": true
   },
   "outputs": [],
   "source": [
    "for i in range(30):\n",
    "    best_features[f'field{i}'] = data[f'field{i}']\n",
    "    best_features[f'goal1'] = data[f'goal1']\n",
    "for i in range(1,6):\n",
    "    best_features[f'indicator_goal2{i}'] = data[f'indicator_goal2{i}']\n",
    "    best_features[f'goal2{i}'] = data[f'goal2{i}']"
   ]
  },
  {
   "cell_type": "code",
   "execution_count": 10,
   "metadata": {
    "ExecuteTime": {
     "end_time": "2020-01-09T17:09:11.969525Z",
     "start_time": "2020-01-09T17:09:11.674525Z"
    },
    "hidden": true
   },
   "outputs": [
    {
     "data": {
      "text/plain": [
       "0"
      ]
     },
     "execution_count": 10,
     "metadata": {},
     "output_type": "execute_result"
    }
   ],
   "source": [
    "del data\n",
    "gc.collect()"
   ]
  },
  {
   "cell_type": "code",
   "execution_count": 6,
   "metadata": {
    "ExecuteTime": {
     "end_time": "2020-01-09T17:06:08.392696Z",
     "start_time": "2020-01-09T17:06:07.261695Z"
    },
    "hidden": true
   },
   "outputs": [],
   "source": [
    "for col in best_features.columns:\n",
    "    if best_features[col].dtypes.name == 'object':\n",
    "        best_features[col] = pd.Categorical(best_features[col])"
   ]
  },
  {
   "cell_type": "code",
   "execution_count": 7,
   "metadata": {
    "ExecuteTime": {
     "end_time": "2020-01-09T17:07:17.790531Z",
     "start_time": "2020-01-09T17:06:09.179696Z"
    },
    "hidden": true
   },
   "outputs": [],
   "source": [
    "best_features.to_parquet(\"./FE2/BEST3155+Orig.pqt\")"
   ]
  },
  {
   "cell_type": "code",
   "execution_count": 9,
   "metadata": {
    "ExecuteTime": {
     "end_time": "2020-01-05T16:32:03.999880Z",
     "start_time": "2020-01-05T16:32:03.928866Z"
    },
    "hidden": true
   },
   "outputs": [
    {
     "data": {
      "text/plain": [
       "Int64Index([1000000, 1000001, 1000002, 1000003, 1000004, 1000005, 1000006,\n",
       "            1000007, 1000008, 1000009,\n",
       "            ...\n",
       "             455001,  455002,  455003,  455004,  455005,  455006,  455007,\n",
       "             455008,  455009,  455010],\n",
       "           dtype='int64', name='orderid', length=651067)"
      ]
     },
     "execution_count": 9,
     "metadata": {},
     "output_type": "execute_result"
    }
   ],
   "source": [
    "best_features.index"
   ]
  },
  {
   "cell_type": "markdown",
   "metadata": {},
   "source": [
    "## Training\n"
   ]
  },
  {
   "cell_type": "code",
   "execution_count": 9,
   "metadata": {
    "ExecuteTime": {
     "end_time": "2020-01-14T20:28:10.462287Z",
     "start_time": "2020-01-14T20:27:36.284290Z"
    }
   },
   "outputs": [],
   "source": [
    "import dask.dataframe as dd\n",
    "data = pd.read_parquet(\"FE2/BEST3155+Orig.pqt\")"
   ]
  },
  {
   "cell_type": "code",
   "execution_count": 11,
   "metadata": {
    "ExecuteTime": {
     "end_time": "2020-01-14T20:28:37.751804Z",
     "start_time": "2020-01-14T20:28:28.448804Z"
    }
   },
   "outputs": [
    {
     "data": {
      "text/plain": [
       "6886"
      ]
     },
     "execution_count": 11,
     "metadata": {},
     "output_type": "execute_result"
    }
   ],
   "source": [
    "test_idx = data[data['goal1']<0].index\n",
    "test=data.loc[test_idx]\n",
    "del data\n",
    "gc.collect()"
   ]
  },
  {
   "cell_type": "code",
   "execution_count": 18,
   "metadata": {
    "ExecuteTime": {
     "end_time": "2020-01-14T20:36:02.325442Z",
     "start_time": "2020-01-14T20:36:00.400442Z"
    }
   },
   "outputs": [],
   "source": [
    "data = pd.read_pickle(\"FE/initial_data.pkl\")"
   ]
  },
  {
   "cell_type": "code",
   "execution_count": 3,
   "metadata": {
    "ExecuteTime": {
     "end_time": "2020-01-14T20:17:35.802831Z",
     "start_time": "2020-01-14T20:17:35.730831Z"
    }
   },
   "outputs": [],
   "source": [
    "exclude_features_from_training = ['indicator_goal21', 'indicator_goal22', 'indicator_goal23',\n",
    "       'indicator_goal24', 'indicator_goal25', 'goal21', 'goal22', 'goal23','field12',\n",
    "       'goal24', 'goal25', 'goal1','userid', 'order_till_hour', 'order_till_weekday', 'order_till_month', 'lang_country']"
   ]
  },
  {
   "cell_type": "code",
   "execution_count": 14,
   "metadata": {
    "ExecuteTime": {
     "end_time": "2020-01-14T20:32:43.245817Z",
     "start_time": "2020-01-14T20:32:40.883822Z"
    }
   },
   "outputs": [],
   "source": [
    "all_features = test.columns\n",
    "train_features = [f for f in all_features if f not in exclude_features_from_training]\n",
    "X_test = test.loc[:,train_features]"
   ]
  },
  {
   "cell_type": "code",
   "execution_count": 16,
   "metadata": {
    "ExecuteTime": {
     "end_time": "2020-01-14T20:35:26.518388Z",
     "start_time": "2020-01-14T20:35:26.438387Z"
    }
   },
   "outputs": [],
   "source": [
    "from sklearn.model_selection import GroupKFold, KFold\n",
    "\n",
    "NFOLDS = 5\n",
    "\n",
    "params = {\n",
    "          \"verbosity\": -1,\n",
    "          'num_leaves': 491,\n",
    "#           'min_child_weight': 0.03454472573214212,\n",
    "          'feature_fraction': 0.3797454081646243,\n",
    "          'bagging_fraction': 0.4181193142567742,\n",
    "          'min_data_in_leaf': 106,\n",
    "          'objective': 'binary',\n",
    "          'max_depth': 4,\n",
    "          'learning_rate': 0.005,\n",
    "          \"boosting_type\": \"gbdt\",\n",
    "          \"bagging_seed\": 11,\n",
    "          \"metric\": 'auc',\n",
    "          \"verbosity\": -1,\n",
    "#           'reg_alpha': 0.3899927210061127,\n",
    "#           'reg_lambda': 0.6485237330340494,\n",
    "          'random_state': 47\n",
    "         }\n",
    "train_options = {\n",
    "        \"model_type\":'lgb',\n",
    "        \"params\": params,\n",
    "        \"eval_metric\":'auc',\n",
    "        'early_stopping_rounds': 300,\n",
    "        'n_estimators': 100,\n",
    "        'averaging': 'rank',\n",
    "        'use_groups': False,\n",
    "    }"
   ]
  },
  {
   "cell_type": "code",
   "execution_count": 26,
   "metadata": {
    "ExecuteTime": {
     "end_time": "2020-01-14T21:08:45.399322Z",
     "start_time": "2020-01-14T20:47:03.105643Z"
    }
   },
   "outputs": [
    {
     "name": "stdout",
     "output_type": "stream",
     "text": [
      "Fold 1 started at Tue Jan 14 23:47:03 2020\n",
      "Training until validation scores don't improve for 300 rounds\n",
      "[100]\ttraining's auc: 0.713063\tvalid_1's auc: 0.67858\n",
      "[200]\ttraining's auc: 0.728697\tvalid_1's auc: 0.688508\n",
      "[300]\ttraining's auc: 0.740183\tvalid_1's auc: 0.694216\n",
      "[400]\ttraining's auc: 0.751323\tvalid_1's auc: 0.698492\n",
      "[500]\ttraining's auc: 0.760444\tvalid_1's auc: 0.700272\n",
      "[600]\ttraining's auc: 0.768679\tvalid_1's auc: 0.702266\n",
      "[700]\ttraining's auc: 0.776048\tvalid_1's auc: 0.704936\n",
      "[800]\ttraining's auc: 0.78236\tvalid_1's auc: 0.706804\n",
      "[900]\ttraining's auc: 0.78811\tvalid_1's auc: 0.708538\n",
      "[1000]\ttraining's auc: 0.793355\tvalid_1's auc: 0.709588\n",
      "[1100]\ttraining's auc: 0.798403\tvalid_1's auc: 0.710791\n",
      "[1200]\ttraining's auc: 0.802817\tvalid_1's auc: 0.711194\n",
      "[1300]\ttraining's auc: 0.807214\tvalid_1's auc: 0.711597\n",
      "[1400]\ttraining's auc: 0.811403\tvalid_1's auc: 0.711799\n",
      "[1500]\ttraining's auc: 0.815252\tvalid_1's auc: 0.71201\n",
      "[1600]\ttraining's auc: 0.819177\tvalid_1's auc: 0.712382\n",
      "[1700]\ttraining's auc: 0.822734\tvalid_1's auc: 0.712417\n",
      "[1800]\ttraining's auc: 0.826267\tvalid_1's auc: 0.712193\n",
      "[1900]\ttraining's auc: 0.829614\tvalid_1's auc: 0.711904\n",
      "Early stopping, best iteration is:\n",
      "[1651]\ttraining's auc: 0.821037\tvalid_1's auc: 0.712502\n",
      "Fold 2 started at Tue Jan 14 23:51:16 2020\n",
      "Training until validation scores don't improve for 300 rounds\n",
      "[100]\ttraining's auc: 0.715144\tvalid_1's auc: 0.654577\n",
      "[200]\ttraining's auc: 0.731377\tvalid_1's auc: 0.661889\n",
      "[300]\ttraining's auc: 0.743686\tvalid_1's auc: 0.666842\n",
      "[400]\ttraining's auc: 0.754161\tvalid_1's auc: 0.669638\n",
      "[500]\ttraining's auc: 0.762258\tvalid_1's auc: 0.671245\n",
      "[600]\ttraining's auc: 0.769936\tvalid_1's auc: 0.672838\n",
      "[700]\ttraining's auc: 0.776333\tvalid_1's auc: 0.674746\n",
      "[800]\ttraining's auc: 0.782467\tvalid_1's auc: 0.675597\n",
      "[900]\ttraining's auc: 0.788257\tvalid_1's auc: 0.67627\n",
      "[1000]\ttraining's auc: 0.793648\tvalid_1's auc: 0.67697\n",
      "[1100]\ttraining's auc: 0.798602\tvalid_1's auc: 0.677503\n",
      "[1200]\ttraining's auc: 0.803176\tvalid_1's auc: 0.678107\n",
      "[1300]\ttraining's auc: 0.807526\tvalid_1's auc: 0.678534\n",
      "[1400]\ttraining's auc: 0.81133\tvalid_1's auc: 0.678812\n",
      "[1500]\ttraining's auc: 0.815002\tvalid_1's auc: 0.679028\n",
      "[1600]\ttraining's auc: 0.818318\tvalid_1's auc: 0.679668\n",
      "[1700]\ttraining's auc: 0.821801\tvalid_1's auc: 0.679818\n",
      "[1800]\ttraining's auc: 0.825141\tvalid_1's auc: 0.679765\n",
      "[1900]\ttraining's auc: 0.828205\tvalid_1's auc: 0.679894\n",
      "[2000]\ttraining's auc: 0.831038\tvalid_1's auc: 0.679982\n",
      "[2100]\ttraining's auc: 0.833606\tvalid_1's auc: 0.680054\n",
      "[2200]\ttraining's auc: 0.836201\tvalid_1's auc: 0.679914\n",
      "[2300]\ttraining's auc: 0.838653\tvalid_1's auc: 0.679796\n",
      "Early stopping, best iteration is:\n",
      "[2033]\ttraining's auc: 0.831944\tvalid_1's auc: 0.680134\n",
      "Fold 3 started at Tue Jan 14 23:55:59 2020\n",
      "Training until validation scores don't improve for 300 rounds\n",
      "[100]\ttraining's auc: 0.717059\tvalid_1's auc: 0.679447\n",
      "[200]\ttraining's auc: 0.731085\tvalid_1's auc: 0.68368\n",
      "[300]\ttraining's auc: 0.743724\tvalid_1's auc: 0.687091\n",
      "[400]\ttraining's auc: 0.753191\tvalid_1's auc: 0.688935\n",
      "[500]\ttraining's auc: 0.761745\tvalid_1's auc: 0.690957\n",
      "[600]\ttraining's auc: 0.768938\tvalid_1's auc: 0.692199\n",
      "[700]\ttraining's auc: 0.776284\tvalid_1's auc: 0.693028\n",
      "[800]\ttraining's auc: 0.782862\tvalid_1's auc: 0.693871\n",
      "[900]\ttraining's auc: 0.788507\tvalid_1's auc: 0.694655\n",
      "[1000]\ttraining's auc: 0.793586\tvalid_1's auc: 0.695465\n",
      "[1100]\ttraining's auc: 0.797922\tvalid_1's auc: 0.695833\n",
      "[1200]\ttraining's auc: 0.802012\tvalid_1's auc: 0.696182\n",
      "[1300]\ttraining's auc: 0.805561\tvalid_1's auc: 0.696438\n",
      "[1400]\ttraining's auc: 0.809175\tvalid_1's auc: 0.696815\n",
      "[1500]\ttraining's auc: 0.812538\tvalid_1's auc: 0.69685\n",
      "[1600]\ttraining's auc: 0.8157\tvalid_1's auc: 0.697001\n",
      "[1700]\ttraining's auc: 0.819195\tvalid_1's auc: 0.697133\n",
      "[1800]\ttraining's auc: 0.822272\tvalid_1's auc: 0.697431\n",
      "[1900]\ttraining's auc: 0.825353\tvalid_1's auc: 0.69763\n",
      "[2000]\ttraining's auc: 0.828418\tvalid_1's auc: 0.697717\n",
      "[2100]\ttraining's auc: 0.831195\tvalid_1's auc: 0.697946\n",
      "[2200]\ttraining's auc: 0.833905\tvalid_1's auc: 0.698196\n",
      "[2300]\ttraining's auc: 0.836563\tvalid_1's auc: 0.698172\n",
      "[2400]\ttraining's auc: 0.838952\tvalid_1's auc: 0.698224\n",
      "[2500]\ttraining's auc: 0.841483\tvalid_1's auc: 0.698278\n",
      "[2600]\ttraining's auc: 0.844044\tvalid_1's auc: 0.698196\n",
      "[2700]\ttraining's auc: 0.846527\tvalid_1's auc: 0.698282\n",
      "Early stopping, best iteration is:\n",
      "[2466]\ttraining's auc: 0.840699\tvalid_1's auc: 0.698381\n",
      "Fold 4 started at Wed Jan 15 00:01:12 2020\n",
      "Training until validation scores don't improve for 300 rounds\n",
      "[100]\ttraining's auc: 0.71822\tvalid_1's auc: 0.677665\n",
      "[200]\ttraining's auc: 0.731416\tvalid_1's auc: 0.681141\n",
      "[300]\ttraining's auc: 0.744083\tvalid_1's auc: 0.686387\n",
      "[400]\ttraining's auc: 0.753822\tvalid_1's auc: 0.690146\n",
      "[500]\ttraining's auc: 0.762068\tvalid_1's auc: 0.692115\n",
      "[600]\ttraining's auc: 0.770533\tvalid_1's auc: 0.69368\n",
      "[700]\ttraining's auc: 0.77785\tvalid_1's auc: 0.694148\n",
      "[800]\ttraining's auc: 0.783894\tvalid_1's auc: 0.694621\n",
      "[900]\ttraining's auc: 0.788769\tvalid_1's auc: 0.695146\n",
      "[1000]\ttraining's auc: 0.793316\tvalid_1's auc: 0.695327\n",
      "[1100]\ttraining's auc: 0.797618\tvalid_1's auc: 0.695367\n",
      "[1200]\ttraining's auc: 0.801776\tvalid_1's auc: 0.695796\n",
      "[1300]\ttraining's auc: 0.805595\tvalid_1's auc: 0.695956\n",
      "[1400]\ttraining's auc: 0.809533\tvalid_1's auc: 0.696079\n",
      "[1500]\ttraining's auc: 0.813262\tvalid_1's auc: 0.695903\n",
      "[1600]\ttraining's auc: 0.816889\tvalid_1's auc: 0.696081\n",
      "Early stopping, best iteration is:\n",
      "[1357]\ttraining's auc: 0.807727\tvalid_1's auc: 0.69625\n",
      "Fold 5 started at Wed Jan 15 00:05:02 2020\n",
      "Training until validation scores don't improve for 300 rounds\n",
      "[100]\ttraining's auc: 0.713967\tvalid_1's auc: 0.696767\n",
      "[200]\ttraining's auc: 0.727621\tvalid_1's auc: 0.701081\n",
      "[300]\ttraining's auc: 0.73917\tvalid_1's auc: 0.703433\n",
      "[400]\ttraining's auc: 0.749657\tvalid_1's auc: 0.705021\n",
      "[500]\ttraining's auc: 0.758323\tvalid_1's auc: 0.70643\n",
      "[600]\ttraining's auc: 0.766566\tvalid_1's auc: 0.708162\n",
      "[700]\ttraining's auc: 0.773827\tvalid_1's auc: 0.708345\n",
      "[800]\ttraining's auc: 0.780512\tvalid_1's auc: 0.708641\n",
      "[900]\ttraining's auc: 0.786778\tvalid_1's auc: 0.708923\n",
      "[1000]\ttraining's auc: 0.792402\tvalid_1's auc: 0.709239\n",
      "[1100]\ttraining's auc: 0.797599\tvalid_1's auc: 0.709548\n",
      "[1200]\ttraining's auc: 0.802078\tvalid_1's auc: 0.709818\n",
      "[1300]\ttraining's auc: 0.806291\tvalid_1's auc: 0.709918\n",
      "[1400]\ttraining's auc: 0.810251\tvalid_1's auc: 0.70955\n",
      "[1500]\ttraining's auc: 0.814355\tvalid_1's auc: 0.709659\n",
      "Early stopping, best iteration is:\n",
      "[1246]\ttraining's auc: 0.804008\tvalid_1's auc: 0.709976\n"
     ]
    }
   ],
   "source": [
    "result_dict = {}\n",
    "prediction = np.zeros((len(X_test), 1))\n",
    "oof = {}\n",
    "scores=[]\n",
    "feature_importance = pd.DataFrame()\n",
    "for ifold in range(5):\n",
    "    print(f'Fold {ifold + 1} started at {time.ctime()}')\n",
    "    X_train = pd.read_parquet(f'./AGGCV/X_train_agg_fold_{ifold}.pqt').loc[:,train_features]\n",
    "    y_train = data.goal1.loc[X_train.index].astype(np.uint8)\n",
    "    X_valid = pd.read_parquet(f'./AGGCV/X_valid_agg_fold_{ifold}.pqt').loc[:,train_features]\n",
    "    y_valid = data.goal1.loc[X_valid.index].astype(np.uint8)\n",
    "\n",
    "    model = lgb.LGBMClassifier(**params, n_estimators=5000, n_jobs=-1)\n",
    "    model.fit(X_train, y_train,\n",
    "      eval_set=[(X_train, y_train), (X_valid, y_valid)],\n",
    "      eval_metric='auc',\n",
    "      verbose=100, early_stopping_rounds=300)\n",
    "    gc.collect()\n",
    "    y_pred_valid = model.predict_proba(X_valid, num_iteration=model.best_iteration_)[:, 1]\n",
    "\n",
    "    scores.append(fast_auc(y_valid, y_pred_valid))\n",
    "    fold_importance = pd.DataFrame()\n",
    "    fold_importance[\"feature\"] = train_features\n",
    "    fold_importance[\"importance\"] = model.feature_importances_\n",
    "    fold_importance[\"fold\"] = ifold + 1\n",
    "    feature_importance = pd.concat([feature_importance, fold_importance], axis=0)\n",
    "    \n",
    "    y_pred = model.predict_proba(X_test)[:, 1]\n",
    "    oof[ifold] = y_pred_valid.reshape(-1, 1)\n",
    "    scores.append(fast_auc(y_valid, y_pred_valid))\n",
    "    if X_test is not None:\n",
    "        prediction += pd.Series(y_pred).rank().values.reshape(-1, 1)"
   ]
  },
  {
   "cell_type": "code",
   "execution_count": 27,
   "metadata": {
    "ExecuteTime": {
     "end_time": "2020-01-14T21:09:48.918436Z",
     "start_time": "2020-01-14T21:09:48.863437Z"
    }
   },
   "outputs": [],
   "source": [
    "prediction /= 5\n",
    "score = sum(scores)/len(scores)        \n",
    "imp = feature_importance[[\"feature\", \"importance\"]].groupby(\"feature\").mean().sort_values(\n",
    "            by=\"importance\", ascending=True)"
   ]
  },
  {
   "cell_type": "code",
   "execution_count": 30,
   "metadata": {
    "ExecuteTime": {
     "end_time": "2020-01-14T21:12:11.014411Z",
     "start_time": "2020-01-14T21:12:10.968412Z"
    }
   },
   "outputs": [
    {
     "data": {
      "text/plain": [
       "array([[ 76799.9],\n",
       "       [147681.9],\n",
       "       [448131.2],\n",
       "       ...,\n",
       "       [152081.8],\n",
       "       [413899. ],\n",
       "       [320131. ]])"
      ]
     },
     "execution_count": 30,
     "metadata": {},
     "output_type": "execute_result"
    }
   ],
   "source": [
    "prediction"
   ]
  },
  {
   "cell_type": "code",
   "execution_count": 28,
   "metadata": {
    "ExecuteTime": {
     "end_time": "2020-01-14T21:09:54.088830Z",
     "start_time": "2020-01-14T21:09:52.415585Z"
    }
   },
   "outputs": [],
   "source": [
    "###SAVE RESULTS\n",
    "import datetime\n",
    "t = datetime.datetime.now().strftime(\"%m-%d-%H-%M\")\n",
    "test['proba'] = prediction\n",
    "sub = pd.read_csv('data/onetwotrip_challenge_sub1.csv')\n",
    "sub['proba'] = test['proba'] / test['proba'].max()\n",
    "sub.reset_index(drop=True).set_index('orderid').to_csv(f'temp/submission-{t}.csv')\n",
    "\n",
    "import pickle\n",
    "pickle.dump(oof, open(f'temp/oof-kfold-{t}.pkl','wb'))"
   ]
  }
 ],
 "metadata": {
  "kernelspec": {
   "display_name": "Python 3",
   "language": "python",
   "name": "python3"
  },
  "language_info": {
   "codemirror_mode": {
    "name": "ipython",
    "version": 3
   },
   "file_extension": ".py",
   "mimetype": "text/x-python",
   "name": "python",
   "nbconvert_exporter": "python",
   "pygments_lexer": "ipython3",
   "version": "3.6.5"
  },
  "toc": {
   "base_numbering": 1,
   "nav_menu": {},
   "number_sections": true,
   "sideBar": true,
   "skip_h1_title": false,
   "title_cell": "Table of Contents",
   "title_sidebar": "Contents",
   "toc_cell": false,
   "toc_position": {},
   "toc_section_display": true,
   "toc_window_display": false
  },
  "varInspector": {
   "cols": {
    "lenName": 16,
    "lenType": 16,
    "lenVar": 40
   },
   "kernels_config": {
    "python": {
     "delete_cmd_postfix": "",
     "delete_cmd_prefix": "del ",
     "library": "var_list.py",
     "varRefreshCmd": "print(var_dic_list())"
    },
    "r": {
     "delete_cmd_postfix": ") ",
     "delete_cmd_prefix": "rm(",
     "library": "var_list.r",
     "varRefreshCmd": "cat(var_dic_list()) "
    }
   },
   "position": {
    "height": "710px",
    "left": "1044px",
    "right": "20px",
    "top": "120px",
    "width": "731px"
   },
   "types_to_exclude": [
    "module",
    "function",
    "builtin_function_or_method",
    "instance",
    "_Feature"
   ],
   "window_display": false
  }
 },
 "nbformat": 4,
 "nbformat_minor": 2
}
