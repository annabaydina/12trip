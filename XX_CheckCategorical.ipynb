{
 "cells": [
  {
   "cell_type": "code",
   "execution_count": 1,
   "metadata": {
    "ExecuteTime": {
     "end_time": "2020-01-12T09:45:32.981804Z",
     "start_time": "2020-01-12T09:45:32.208814Z"
    }
   },
   "outputs": [],
   "source": [
    "import pandas as pd\n",
    "import dask.dataframe as dd\n",
    "from BayDS.lib.utils import *\n",
    "import pickle\n",
    "import seaborn as sns\n",
    "import matplotlib.pyplot as plt\n",
    "%matplotlib inline\n",
    "from dask.diagnostics import ProgressBar\n",
    "ProgressBar().register()\n",
    "from tqdm import tqdm\n",
    "tqdm.pandas()\n",
    "import multiprocess as mp\n",
    "from BayDS.lib.aggregations.temporal import *"
   ]
  },
  {
   "cell_type": "code",
   "execution_count": 2,
   "metadata": {
    "ExecuteTime": {
     "end_time": "2020-01-12T09:45:35.038636Z",
     "start_time": "2020-01-12T09:45:33.934235Z"
    }
   },
   "outputs": [],
   "source": [
    "# best_features = dd.read_parquet('./FE/best_features_1141.pqt')\n",
    "data = pd.read_pickle('./FE/initial_data.pkl')"
   ]
  },
  {
   "cell_type": "code",
   "execution_count": 3,
   "metadata": {
    "ExecuteTime": {
     "end_time": "2020-01-12T09:46:06.437443Z",
     "start_time": "2020-01-12T09:46:06.337447Z"
    }
   },
   "outputs": [],
   "source": [
    "train = data[data.goal1>=0]\n",
    "test = data[data.goal1<0]"
   ]
  },
  {
   "cell_type": "code",
   "execution_count": 18,
   "metadata": {
    "ExecuteTime": {
     "end_time": "2020-01-12T10:05:02.926468Z",
     "start_time": "2020-01-12T10:05:02.903467Z"
    }
   },
   "outputs": [
    {
     "name": "stdout",
     "output_type": "stream",
     "text": [
      "field12 46 21\n",
      "field26 2 0\n",
      "field27 0 0\n",
      "field29 0 0\n"
     ]
    }
   ],
   "source": [
    "for f in ('field12','field26','field27','field29'):\n",
    "    print (f, len(np.where(train[f].value_counts()==0)[0]),len(np.where(test[f].value_counts()==0)[0]))\n",
    "    "
   ]
  },
  {
   "cell_type": "code",
   "execution_count": 20,
   "metadata": {
    "ExecuteTime": {
     "end_time": "2020-01-12T10:37:19.874215Z",
     "start_time": "2020-01-12T10:37:19.863213Z"
    }
   },
   "outputs": [
    {
     "data": {
      "text/plain": [
       "316        0\n",
       "313        0\n",
       "312        0\n",
       "311        0\n",
       "310        0\n",
       "       ...  \n",
       "2      17959\n",
       "3      20507\n",
       "8      20603\n",
       "5      24791\n",
       "4      35039\n",
       "Name: field12, Length: 316, dtype: int64"
      ]
     },
     "execution_count": 20,
     "metadata": {},
     "output_type": "execute_result"
    }
   ],
   "source": [
    "train.field12.value_counts().sort_values()"
   ]
  },
  {
   "cell_type": "code",
   "execution_count": 13,
   "metadata": {
    "ExecuteTime": {
     "end_time": "2020-01-12T09:48:27.994958Z",
     "start_time": "2020-01-12T09:48:27.984960Z"
    }
   },
   "outputs": [
    {
     "data": {
      "text/plain": [
       "223    0\n",
       "253    0\n",
       "235    0\n",
       "231    0\n",
       "210    0\n",
       "245    0\n",
       "200    0\n",
       "229    0\n",
       "249    0\n",
       "250    0\n",
       "254    0\n",
       "26     0\n",
       "133    0\n",
       "211    0\n",
       "256    0\n",
       "226    0\n",
       "268    0\n",
       "172    0\n",
       "178    0\n",
       "192    0\n",
       "237    0\n",
       "Name: field12, dtype: int64"
      ]
     },
     "execution_count": 13,
     "metadata": {},
     "output_type": "execute_result"
    }
   ],
   "source": [
    "test.field12.value_counts().iloc[np.where(test.field12.value_counts()==0)]"
   ]
  },
  {
   "cell_type": "code",
   "execution_count": 11,
   "metadata": {
    "ExecuteTime": {
     "end_time": "2020-01-12T09:48:00.345276Z",
     "start_time": "2020-01-12T09:48:00.336276Z"
    }
   },
   "outputs": [
    {
     "data": {
      "text/plain": [
       "(array([], dtype=int64),)"
      ]
     },
     "execution_count": 11,
     "metadata": {},
     "output_type": "execute_result"
    }
   ],
   "source": [
    "np.where(data.field12.value_counts()==0)"
   ]
  }
 ],
 "metadata": {
  "kernelspec": {
   "display_name": "Python 3",
   "language": "python",
   "name": "python3"
  },
  "language_info": {
   "codemirror_mode": {
    "name": "ipython",
    "version": 3
   },
   "file_extension": ".py",
   "mimetype": "text/x-python",
   "name": "python",
   "nbconvert_exporter": "python",
   "pygments_lexer": "ipython3",
   "version": "3.6.5"
  },
  "toc": {
   "base_numbering": 1,
   "nav_menu": {},
   "number_sections": true,
   "sideBar": true,
   "skip_h1_title": false,
   "title_cell": "Table of Contents",
   "title_sidebar": "Contents",
   "toc_cell": false,
   "toc_position": {},
   "toc_section_display": true,
   "toc_window_display": false
  },
  "varInspector": {
   "cols": {
    "lenName": 16,
    "lenType": 16,
    "lenVar": 40
   },
   "kernels_config": {
    "python": {
     "delete_cmd_postfix": "",
     "delete_cmd_prefix": "del ",
     "library": "var_list.py",
     "varRefreshCmd": "print(var_dic_list())"
    },
    "r": {
     "delete_cmd_postfix": ") ",
     "delete_cmd_prefix": "rm(",
     "library": "var_list.r",
     "varRefreshCmd": "cat(var_dic_list()) "
    }
   },
   "position": {
    "height": "401px",
    "left": "1520px",
    "right": "20px",
    "top": "120px",
    "width": "346px"
   },
   "types_to_exclude": [
    "module",
    "function",
    "builtin_function_or_method",
    "instance",
    "_Feature"
   ],
   "window_display": false
  }
 },
 "nbformat": 4,
 "nbformat_minor": 2
}
