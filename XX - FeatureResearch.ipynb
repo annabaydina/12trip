{
 "cells": [
  {
   "cell_type": "code",
   "execution_count": 16,
   "metadata": {
    "ExecuteTime": {
     "end_time": "2020-01-19T08:50:40.518398Z",
     "start_time": "2020-01-19T08:50:40.471396Z"
    }
   },
   "outputs": [
    {
     "name": "stdout",
     "output_type": "stream",
     "text": [
      "The autoreload extension is already loaded. To reload it, use:\n",
      "  %reload_ext autoreload\n"
     ]
    }
   ],
   "source": [
    "%load_ext autoreload\n",
    "%autoreload 2"
   ]
  },
  {
   "cell_type": "code",
   "execution_count": 19,
   "metadata": {
    "ExecuteTime": {
     "end_time": "2020-01-19T08:51:21.281619Z",
     "start_time": "2020-01-19T08:51:21.235620Z"
    }
   },
   "outputs": [],
   "source": [
    "import pandas as pd\n",
    "import dask.dataframe as dd\n",
    "import matplotlib.pyplot as plt\n",
    "%matplotlib inline\n",
    "import seaborn as sns\n",
    "from BayDS.lib.io import *\n",
    "from BayDS.lib.training import *\n",
    "from BayDS.lib.selection import *"
   ]
  },
  {
   "cell_type": "code",
   "execution_count": 30,
   "metadata": {
    "ExecuteTime": {
     "end_time": "2020-01-19T12:47:19.472644Z",
     "start_time": "2020-01-19T12:47:19.098645Z"
    }
   },
   "outputs": [],
   "source": [
    "initial_data = pd.read_pickle('./FE/initial_data.pkl')\n",
    "pos_idx = initial_data[initial_data['goal1']==1].index\n",
    "neg_idx = initial_data[initial_data['goal1']==0].index\n"
   ]
  },
  {
   "cell_type": "code",
   "execution_count": 33,
   "metadata": {
    "ExecuteTime": {
     "end_time": "2020-01-19T12:48:09.371642Z",
     "start_time": "2020-01-19T12:48:09.294640Z"
    }
   },
   "outputs": [],
   "source": [
    "initial_data['field22'] = pd.Categorical(initial_data['field22'])\n",
    "initial_data['field25'] = pd.Categorical(initial_data['field25'])"
   ]
  },
  {
   "cell_type": "code",
   "execution_count": 37,
   "metadata": {
    "ExecuteTime": {
     "end_time": "2020-01-19T12:50:21.569640Z",
     "start_time": "2020-01-19T12:50:21.508640Z"
    }
   },
   "outputs": [],
   "source": [
    "ddt = initial_data [initial_data['userid']=='a4837464e50075c4f8b5820dab011496ba1f04a985ab2782f5cafe6dda94ed52']# [['field0','field4','field16','goal1']].sort_values('field4').iloc[:20]"
   ]
  },
  {
   "cell_type": "code",
   "execution_count": 94,
   "metadata": {
    "ExecuteTime": {
     "end_time": "2020-01-19T13:24:58.941212Z",
     "start_time": "2020-01-19T13:24:58.880214Z"
    }
   },
   "outputs": [],
   "source": [
    "def shift(df,name='next', feature='field0', val=-1):\n",
    "    shift_agg = lambda x: x.sort_index().shift(val)\n",
    "    ddt_index=df.loc[:,['userid','field4',feature]].reset_index().set_index(['userid','field4']).sort_index()\n",
    "    ddt_index.loc[:,name] = ddt_index[feature].agg(shift_agg)\n",
    "    return ddt_index.set_index('orderid')[name]\n",
    "    "
   ]
  },
  {
   "cell_type": "markdown",
   "metadata": {},
   "source": [
    "### Days to next order"
   ]
  },
  {
   "cell_type": "code",
   "execution_count": 95,
   "metadata": {
    "ExecuteTime": {
     "end_time": "2020-01-19T13:25:14.904213Z",
     "start_time": "2020-01-19T13:25:13.476212Z"
    },
    "scrolled": true
   },
   "outputs": [],
   "source": [
    "initial_data['daysToNextOrder'] = shift(initial_data)"
   ]
  },
  {
   "cell_type": "code",
   "execution_count": 96,
   "metadata": {
    "ExecuteTime": {
     "end_time": "2020-01-19T13:25:30.138212Z",
     "start_time": "2020-01-19T13:25:30.044214Z"
    }
   },
   "outputs": [
    {
     "data": {
      "text/html": [
       "<div>\n",
       "<style scoped>\n",
       "    .dataframe tbody tr th:only-of-type {\n",
       "        vertical-align: middle;\n",
       "    }\n",
       "\n",
       "    .dataframe tbody tr th {\n",
       "        vertical-align: top;\n",
       "    }\n",
       "\n",
       "    .dataframe thead th {\n",
       "        text-align: right;\n",
       "    }\n",
       "</style>\n",
       "<table border=\"1\" class=\"dataframe\">\n",
       "  <thead>\n",
       "    <tr style=\"text-align: right;\">\n",
       "      <th></th>\n",
       "      <th>userid</th>\n",
       "      <th>field0</th>\n",
       "      <th>field1</th>\n",
       "      <th>field2</th>\n",
       "      <th>field3</th>\n",
       "      <th>field4</th>\n",
       "      <th>field5</th>\n",
       "      <th>field6</th>\n",
       "      <th>field7</th>\n",
       "      <th>field8</th>\n",
       "      <th>...</th>\n",
       "      <th>bigkids_dividedBy_adults</th>\n",
       "      <th>pupes_dividedBy_adults</th>\n",
       "      <th>allkids_dividedBy_adults</th>\n",
       "      <th>is1Ticket</th>\n",
       "      <th>hasChildren</th>\n",
       "      <th>hasChildren_cumsum</th>\n",
       "      <th>price1_dividedBy_price2</th>\n",
       "      <th>price1_dividedBy_price2_field15</th>\n",
       "      <th>field17_times_field13</th>\n",
       "      <th>daysToNextOrder</th>\n",
       "    </tr>\n",
       "    <tr>\n",
       "      <th>orderid</th>\n",
       "      <th></th>\n",
       "      <th></th>\n",
       "      <th></th>\n",
       "      <th></th>\n",
       "      <th></th>\n",
       "      <th></th>\n",
       "      <th></th>\n",
       "      <th></th>\n",
       "      <th></th>\n",
       "      <th></th>\n",
       "      <th></th>\n",
       "      <th></th>\n",
       "      <th></th>\n",
       "      <th></th>\n",
       "      <th></th>\n",
       "      <th></th>\n",
       "      <th></th>\n",
       "      <th></th>\n",
       "      <th></th>\n",
       "      <th></th>\n",
       "      <th></th>\n",
       "    </tr>\n",
       "  </thead>\n",
       "  <tbody>\n",
       "    <tr>\n",
       "      <th>1081409</th>\n",
       "      <td>ffffec088571b537c70f463641966df601eaf356a40ad2...</td>\n",
       "      <td>0</td>\n",
       "      <td>-0.471365392208099</td>\n",
       "      <td>8</td>\n",
       "      <td>8</td>\n",
       "      <td>1</td>\n",
       "      <td>1</td>\n",
       "      <td>0</td>\n",
       "      <td>1</td>\n",
       "      <td>1</td>\n",
       "      <td>...</td>\n",
       "      <td>0.0</td>\n",
       "      <td>0.0</td>\n",
       "      <td>0.0</td>\n",
       "      <td>1</td>\n",
       "      <td>0</td>\n",
       "      <td>52826</td>\n",
       "      <td>1.25</td>\n",
       "      <td>1.25</td>\n",
       "      <td>2</td>\n",
       "      <td>NaN</td>\n",
       "    </tr>\n",
       "  </tbody>\n",
       "</table>\n",
       "<p>1 rows × 78 columns</p>\n",
       "</div>"
      ],
      "text/plain": [
       "                                                    userid  field0  \\\n",
       "orderid                                                              \n",
       "1081409  ffffec088571b537c70f463641966df601eaf356a40ad2...       0   \n",
       "\n",
       "                    field1  field2  field3  field4  field5  field6  field7  \\\n",
       "orderid                                                                      \n",
       "1081409 -0.471365392208099       8       8       1       1       0       1   \n",
       "\n",
       "         field8  ...  bigkids_dividedBy_adults  pupes_dividedBy_adults  \\\n",
       "orderid          ...                                                     \n",
       "1081409       1  ...                       0.0                     0.0   \n",
       "\n",
       "         allkids_dividedBy_adults is1Ticket  hasChildren  hasChildren_cumsum  \\\n",
       "orderid                                                                        \n",
       "1081409                       0.0         1            0               52826   \n",
       "\n",
       "         price1_dividedBy_price2  price1_dividedBy_price2_field15  \\\n",
       "orderid                                                             \n",
       "1081409                     1.25                             1.25   \n",
       "\n",
       "         field17_times_field13  daysToNextOrder  \n",
       "orderid                                          \n",
       "1081409                      2              NaN  \n",
       "\n",
       "[1 rows x 78 columns]"
      ]
     },
     "execution_count": 96,
     "metadata": {},
     "output_type": "execute_result"
    }
   ],
   "source": [
    "initial_data[initial_data['daysToNextOrder'].isna()]"
   ]
  },
  {
   "cell_type": "code",
   "execution_count": 97,
   "metadata": {
    "ExecuteTime": {
     "end_time": "2020-01-19T13:25:44.837213Z",
     "start_time": "2020-01-19T13:25:44.531214Z"
    }
   },
   "outputs": [
    {
     "data": {
      "text/plain": [
       "5.7"
      ]
     },
     "execution_count": 97,
     "metadata": {},
     "output_type": "execute_result"
    }
   ],
   "source": [
    "train = initial_data[initial_data['goal1']>=0]\n",
    "individual_gini('daysToNextOrder',train,train.goal1,-1)"
   ]
  },
  {
   "cell_type": "code",
   "execution_count": 98,
   "metadata": {
    "ExecuteTime": {
     "end_time": "2020-01-19T13:26:00.660221Z",
     "start_time": "2020-01-19T13:26:00.231217Z"
    }
   },
   "outputs": [
    {
     "data": {
      "text/plain": [
       "17.0"
      ]
     },
     "execution_count": 98,
     "metadata": {},
     "output_type": "execute_result"
    }
   ],
   "source": [
    "initial_data['daysToNextOrder_dividedBy_field16'] = initial_data['daysToNextOrder'] /initial_data['field16'] \n",
    "train = initial_data[initial_data['goal1']>=0]\n",
    "individual_gini('daysToNextOrder_dividedBy_field16',train,train.goal1,-1)"
   ]
  },
  {
   "cell_type": "markdown",
   "metadata": {},
   "source": [
    "### Days to next flight"
   ]
  },
  {
   "cell_type": "code",
   "execution_count": 99,
   "metadata": {
    "ExecuteTime": {
     "end_time": "2020-01-19T13:26:18.096211Z",
     "start_time": "2020-01-19T13:26:14.400215Z"
    }
   },
   "outputs": [],
   "source": [
    "initial_data['daysToNextFlight'] = shift(initial_data) + shift(initial_data, feature='field16') "
   ]
  },
  {
   "cell_type": "code",
   "execution_count": 100,
   "metadata": {
    "ExecuteTime": {
     "end_time": "2020-01-19T13:26:34.117259Z",
     "start_time": "2020-01-19T13:26:33.721260Z"
    }
   },
   "outputs": [
    {
     "data": {
      "text/plain": [
       "0.2"
      ]
     },
     "execution_count": 100,
     "metadata": {},
     "output_type": "execute_result"
    }
   ],
   "source": [
    "train = initial_data[initial_data['goal1']>=0]\n",
    "individual_gini('daysToNextFlight',train,train.goal1,-1)"
   ]
  },
  {
   "cell_type": "code",
   "execution_count": 101,
   "metadata": {
    "ExecuteTime": {
     "end_time": "2020-01-19T13:26:49.695258Z",
     "start_time": "2020-01-19T13:26:48.914258Z"
    }
   },
   "outputs": [
    {
     "data": {
      "text/plain": [
       "18.3"
      ]
     },
     "execution_count": 101,
     "metadata": {},
     "output_type": "execute_result"
    }
   ],
   "source": [
    "initial_data['daysToNextFlight_dividedBy_field16'] = initial_data['daysToNextFlight'] /initial_data['field16'] \n",
    "train = initial_data[initial_data['goal1']>=0]\n",
    "individual_gini('daysToNextFlight_dividedBy_field16',train,train.goal1,-1)"
   ]
  },
  {
   "cell_type": "code",
   "execution_count": null,
   "metadata": {},
   "outputs": [],
   "source": [
    "#date of next flight - date of this flight"
   ]
  },
  {
   "cell_type": "code",
   "execution_count": null,
   "metadata": {},
   "outputs": [],
   "source": [
    "#date of this flight - date of prev flight"
   ]
  },
  {
   "cell_type": "markdown",
   "metadata": {},
   "source": [
    "### Category is changed"
   ]
  },
  {
   "cell_type": "code",
   "execution_count": 65,
   "metadata": {
    "ExecuteTime": {
     "end_time": "2020-01-19T13:03:58.944700Z",
     "start_time": "2020-01-19T13:03:58.896702Z"
    }
   },
   "outputs": [],
   "source": [
    "def add_cat_changed(df,name='next', feature=''):\n",
    "    changed_agg = lambda x: np.clip(np.abs(x.astype(np.float32)-x.astype(np.float32).shift(1)).fillna(0),0,1).astype(np.uint8)\n",
    "    ddt_index=df.loc[:,['userid','field4',cat]].reset_index().set_index(['userid','field4']).sort_index()\n",
    "    ddt_index.loc[:,name] = ddt_index[feature].agg(changed_agg)\n",
    "    return ddt_index.set_index('orderid')[name]"
   ]
  },
  {
   "cell_type": "code",
   "execution_count": 67,
   "metadata": {
    "ExecuteTime": {
     "end_time": "2020-01-19T13:05:23.746699Z",
     "start_time": "2020-01-19T13:04:53.984701Z"
    }
   },
   "outputs": [
    {
     "name": "stdout",
     "output_type": "stream",
     "text": [
      "field12 3.5000000000000004\n",
      "field22 3.1\n",
      "field25 10.2\n",
      "field26 3.5000000000000004\n",
      "field27 2.1\n",
      "field29 1.0\n",
      "field0bin 4.6\n",
      "field6bin 6.0\n",
      "field13bin 0.8999999999999999\n",
      "field16bin 1.6\n",
      "field17bin 4.8\n",
      "field22bin 1.7000000000000002\n",
      "field25bin 9.0\n",
      "price1bin 0.4\n",
      "price2bin 1.5\n"
     ]
    }
   ],
   "source": [
    "for cat in initial_data.columns:\n",
    "    if initial_data[cat].dtype.name == 'category' and cat!='userid':\n",
    "        initial_data[cat+'_changed'] = add_cat_changed(initial_data, feature=cat) \n",
    "        train = initial_data[initial_data['goal1']>=0]\n",
    "        print (cat, individual_gini(cat+'_changed',train,train.goal1,-1))"
   ]
  },
  {
   "cell_type": "markdown",
   "metadata": {},
   "source": [
    "### Kids/Adults"
   ]
  },
  {
   "cell_type": "code",
   "execution_count": 70,
   "metadata": {
    "ExecuteTime": {
     "end_time": "2020-01-19T13:11:50.329698Z",
     "start_time": "2020-01-19T13:11:47.358702Z"
    }
   },
   "outputs": [
    {
     "name": "stdout",
     "output_type": "stream",
     "text": [
      "bigkids_dividedBy_adults [0.8, 0.8999999999999999, 5.0, 4.0, 0.5, 9.2]\n",
      "pupes_dividedBy_adults [0.3, 0.7000000000000001, 0.8999999999999999, 0.8999999999999999, 0.0, 2.3]\n",
      "allkids_dividedBy_adults [0.5, 1.6, 5.3, 4.5, 0.1, 7.6]\n"
     ]
    }
   ],
   "source": [
    "initial_data['bigkids_dividedBy_adults'] = initial_data['field28'] /  initial_data['field24']\n",
    "initial_data['pupes_dividedBy_adults'] = initial_data['field9'] /  initial_data['field24']\n",
    "initial_data['allkids_dividedBy_adults'] = (initial_data['field9'] +initial_data['field28'] )/  initial_data['field24']\n",
    "initial_data['is1Ticket'] = (2 - np.clip(initial_data['field15'],1,2))\n",
    "initial_data['hasChildren'] = np.clip((initial_data['field9'] +initial_data['field28']), 0, 1)\n",
    "\n",
    "train = initial_data[initial_data['goal1']>=0]\n",
    "for col in ('bigkids_dividedBy_adults', 'pupes_dividedBy_adults', 'allkids_dividedBy_adults','is1Ticket'):\n",
    "    scores = []\n",
    "    for goal in ['goal1', 'goal21', 'goal22', 'goal23', 'goal24', 'goal25']:\n",
    "        x = individual_gini(col,train,train[goal],-1)\n",
    "        scores.append(x)\n",
    "    print (col, scores)\n"
   ]
  },
  {
   "cell_type": "code",
   "execution_count": 90,
   "metadata": {
    "ExecuteTime": {
     "end_time": "2020-01-19T13:21:26.191212Z",
     "start_time": "2020-01-19T13:21:18.905216Z"
    }
   },
   "outputs": [
    {
     "name": "stdout",
     "output_type": "stream",
     "text": [
      "hasChildren_cumsum [1.4000000000000001, 4.7, 2.8000000000000003, 4.7, 2.8000000000000003, 3.0]\n"
     ]
    }
   ],
   "source": [
    "def add_cumsum(df, feature=''):\n",
    "    cumsum_agg = lambda x: x.cumsum()\n",
    "    ddt_index=df.loc[:,['userid','field4',feature]].reset_index().set_index(['userid','field4']).sort_index()\n",
    "    ddt_index.loc[:,'cumsum'] = ddt_index[feature].agg(cumsum_agg)\n",
    "    return ddt_index.set_index('orderid')['cumsum']\n",
    "\n",
    "initial_data['hasChildren_cumsum'] = add_cumsum(initial_data,feature='hasChildren')\n",
    "\n",
    "train = initial_data[initial_data['goal1']>=0]\n",
    "for col in ('hasChildren_cumsum',):\n",
    "    scores = []\n",
    "    for goal in ['goal1', 'goal21', 'goal22', 'goal23', 'goal24', 'goal25']:\n",
    "        x = individual_gini(col,train,train[goal],-1)\n",
    "        scores.append(x)\n",
    "    print (col, scores)"
   ]
  },
  {
   "cell_type": "code",
   "execution_count": 93,
   "metadata": {
    "ExecuteTime": {
     "end_time": "2020-01-19T13:24:44.251211Z",
     "start_time": "2020-01-19T13:24:39.530216Z"
    }
   },
   "outputs": [
    {
     "name": "stdout",
     "output_type": "stream",
     "text": [
      "price1_dividedBy_price2 [9.5, 21.5, 22.1, 15.8, 12.2, 37.5]\n",
      "price1_dividedBy_price2_field15 [10.9, 20.0, 15.1, 16.3, 12.6, 35.5]\n",
      "field17_times_field13 [9.700000000000001, 8.7, 5.8999999999999995, 13.4, 6.800000000000001, 21.2]\n"
     ]
    }
   ],
   "source": [
    "initial_data['price1_dividedBy_price2'] = initial_data['price1'] /  initial_data['price2']\n",
    "initial_data['price1_dividedBy_price2_field15'] = initial_data['price1'] /  initial_data['price2'] / initial_data['field15']\n",
    "initial_data['field17_times_field13'] = initial_data['field17'] * initial_data['field13'] \n",
    "train = initial_data[initial_data['goal1']>=0]\n",
    "for col in ('price1_dividedBy_price2','price1_dividedBy_price2_field15','field17_times_field13'):\n",
    "    scores = []\n",
    "    for goal in ['goal1', 'goal21', 'goal22', 'goal23', 'goal24', 'goal25']:\n",
    "        x = individual_gini(col,train,train[goal],-1)\n",
    "        scores.append(x)\n",
    "    print (col, scores)"
   ]
  },
  {
   "cell_type": "code",
   "execution_count": 103,
   "metadata": {
    "ExecuteTime": {
     "end_time": "2020-01-19T13:38:12.321714Z",
     "start_time": "2020-01-19T13:38:12.256727Z"
    }
   },
   "outputs": [
    {
     "data": {
      "text/plain": [
       "Index(['userid', 'field0', 'field1', 'field2', 'field3', 'field4', 'field5',\n",
       "       'field6', 'field7', 'field8', 'field9', 'field10', 'field11', 'field12',\n",
       "       'field13', 'field14', 'field15', 'field16', 'field17', 'field18',\n",
       "       'field19', 'field20', 'field21', 'field22', 'field23', 'field24',\n",
       "       'field25', 'field26', 'field27', 'field28', 'field29',\n",
       "       'indicator_goal21', 'indicator_goal22', 'indicator_goal23',\n",
       "       'indicator_goal24', 'indicator_goal25', 'goal21', 'goal22', 'goal23',\n",
       "       'goal24', 'goal25', 'goal1', 'price1', 'price2', 'field0bin',\n",
       "       'field6bin', 'field13bin', 'field16bin', 'field17bin', 'field22bin',\n",
       "       'field25bin', 'price1bin', 'price2bin', 'field12_changed',\n",
       "       'field22_changed', 'field25_changed', 'field26_changed',\n",
       "       'field27_changed', 'field29_changed', 'field0bin_changed',\n",
       "       'field6bin_changed', 'field13bin_changed', 'field16bin_changed',\n",
       "       'field17bin_changed', 'field22bin_changed', 'field25bin_changed',\n",
       "       'price1bin_changed', 'price2bin_changed', 'bigkids_dividedBy_adults',\n",
       "       'pupes_dividedBy_adults', 'allkids_dividedBy_adults', 'is1Ticket',\n",
       "       'hasChildren', 'hasChildren_cumsum', 'price1_dividedBy_price2',\n",
       "       'price1_dividedBy_price2_field15', 'field17_times_field13',\n",
       "       'daysToNextOrder', 'daysToNextOrder_dividedBy_field16',\n",
       "       'daysToNextFlight', 'daysToNextFlight_dividedBy_field16'],\n",
       "      dtype='object')"
      ]
     },
     "execution_count": 103,
     "metadata": {},
     "output_type": "execute_result"
    }
   ],
   "source": [
    "initial_data.columns"
   ]
  },
  {
   "cell_type": "code",
   "execution_count": 104,
   "metadata": {
    "ExecuteTime": {
     "end_time": "2020-01-19T13:38:37.414592Z",
     "start_time": "2020-01-19T13:38:35.500340Z"
    }
   },
   "outputs": [],
   "source": [
    "initial_data.to_parquet('./FE_MANUAL/fe.pqt')"
   ]
  },
  {
   "cell_type": "code",
   "execution_count": 81,
   "metadata": {
    "ExecuteTime": {
     "end_time": "2020-01-19T13:17:50.173700Z",
     "start_time": "2020-01-19T13:17:50.112703Z"
    }
   },
   "outputs": [],
   "source": [
    "col = 'hasChildren'\n",
    "ddt = initial_data [initial_data['userid']=='a4837464e50075c4f8b5820dab011496ba1f04a985ab2782f5cafe6dda94ed52']# [['field0','field4','field16','goal1']].sort_values('field4').iloc[:20]\n",
    "ddt_index=ddt.loc[:,['userid','field4',col]].reset_index().set_index(['userid','field4']).sort_index()"
   ]
  },
  {
   "cell_type": "code",
   "execution_count": 83,
   "metadata": {
    "ExecuteTime": {
     "end_time": "2020-01-19T13:18:19.637211Z",
     "start_time": "2020-01-19T13:18:19.587212Z"
    }
   },
   "outputs": [
    {
     "data": {
      "text/plain": [
       "6"
      ]
     },
     "execution_count": 83,
     "metadata": {},
     "output_type": "execute_result"
    }
   ],
   "source": [
    "ddt_index['hasChildren'].sum()"
   ]
  },
  {
   "cell_type": "code",
   "execution_count": 86,
   "metadata": {
    "ExecuteTime": {
     "end_time": "2020-01-19T13:19:30.759224Z",
     "start_time": "2020-01-19T13:19:30.096211Z"
    }
   },
   "outputs": [
    {
     "data": {
      "text/plain": [
       "userid                                                            field4\n",
       "a4837464e50075c4f8b5820dab011496ba1f04a985ab2782f5cafe6dda94ed52  1         0\n",
       "                                                                  2         0\n",
       "                                                                  3         0\n",
       "                                                                  4         0\n",
       "                                                                  5         0\n",
       "                                                                           ..\n",
       "                                                                  359       6\n",
       "                                                                  360       6\n",
       "                                                                  361       6\n",
       "                                                                  362       6\n",
       "                                                                  363       6\n",
       "Name: hasChildren, Length: 363, dtype: int32"
      ]
     },
     "execution_count": 86,
     "metadata": {},
     "output_type": "execute_result"
    }
   ],
   "source": [
    "ddt_index['hasChildren'].agg(lambda x: x.cumsum())"
   ]
  },
  {
   "cell_type": "code",
   "execution_count": null,
   "metadata": {},
   "outputs": [],
   "source": []
  },
  {
   "cell_type": "code",
   "execution_count": 109,
   "metadata": {
    "ExecuteTime": {
     "end_time": "2020-01-18T21:03:19.787923Z",
     "start_time": "2020-01-18T21:03:19.773920Z"
    }
   },
   "outputs": [
    {
     "data": {
      "text/html": [
       "<div>\n",
       "<style scoped>\n",
       "    .dataframe tbody tr th:only-of-type {\n",
       "        vertical-align: middle;\n",
       "    }\n",
       "\n",
       "    .dataframe tbody tr th {\n",
       "        vertical-align: top;\n",
       "    }\n",
       "\n",
       "    .dataframe thead th {\n",
       "        text-align: right;\n",
       "    }\n",
       "</style>\n",
       "<table border=\"1\" class=\"dataframe\">\n",
       "  <thead>\n",
       "    <tr style=\"text-align: right;\">\n",
       "      <th></th>\n",
       "      <th>field0</th>\n",
       "      <th>field4</th>\n",
       "      <th>daysToNextOrder</th>\n",
       "      <th>field16</th>\n",
       "      <th>goal1</th>\n",
       "    </tr>\n",
       "    <tr>\n",
       "      <th>orderid</th>\n",
       "      <th></th>\n",
       "      <th></th>\n",
       "      <th></th>\n",
       "      <th></th>\n",
       "      <th></th>\n",
       "    </tr>\n",
       "  </thead>\n",
       "  <tbody>\n",
       "    <tr>\n",
       "      <th>1162877</th>\n",
       "      <td>0</td>\n",
       "      <td>1</td>\n",
       "      <td>0.0</td>\n",
       "      <td>1</td>\n",
       "      <td>0</td>\n",
       "    </tr>\n",
       "    <tr>\n",
       "      <th>1125446</th>\n",
       "      <td>0</td>\n",
       "      <td>2</td>\n",
       "      <td>0.0</td>\n",
       "      <td>1</td>\n",
       "      <td>0</td>\n",
       "    </tr>\n",
       "    <tr>\n",
       "      <th>1039421</th>\n",
       "      <td>0</td>\n",
       "      <td>3</td>\n",
       "      <td>16.0</td>\n",
       "      <td>1</td>\n",
       "      <td>0</td>\n",
       "    </tr>\n",
       "    <tr>\n",
       "      <th>1174386</th>\n",
       "      <td>16</td>\n",
       "      <td>4</td>\n",
       "      <td>0.0</td>\n",
       "      <td>4</td>\n",
       "      <td>0</td>\n",
       "    </tr>\n",
       "    <tr>\n",
       "      <th>1083155</th>\n",
       "      <td>0</td>\n",
       "      <td>5</td>\n",
       "      <td>1.0</td>\n",
       "      <td>5</td>\n",
       "      <td>1</td>\n",
       "    </tr>\n",
       "    <tr>\n",
       "      <th>1186621</th>\n",
       "      <td>1</td>\n",
       "      <td>6</td>\n",
       "      <td>0.0</td>\n",
       "      <td>5</td>\n",
       "      <td>0</td>\n",
       "    </tr>\n",
       "    <tr>\n",
       "      <th>1102930</th>\n",
       "      <td>0</td>\n",
       "      <td>7</td>\n",
       "      <td>3.0</td>\n",
       "      <td>8</td>\n",
       "      <td>0</td>\n",
       "    </tr>\n",
       "    <tr>\n",
       "      <th>1189031</th>\n",
       "      <td>3</td>\n",
       "      <td>8</td>\n",
       "      <td>0.0</td>\n",
       "      <td>3</td>\n",
       "      <td>0</td>\n",
       "    </tr>\n",
       "    <tr>\n",
       "      <th>1177676</th>\n",
       "      <td>0</td>\n",
       "      <td>9</td>\n",
       "      <td>0.0</td>\n",
       "      <td>4</td>\n",
       "      <td>0</td>\n",
       "    </tr>\n",
       "    <tr>\n",
       "      <th>1074136</th>\n",
       "      <td>0</td>\n",
       "      <td>10</td>\n",
       "      <td>1.0</td>\n",
       "      <td>8</td>\n",
       "      <td>0</td>\n",
       "    </tr>\n",
       "    <tr>\n",
       "      <th>1174233</th>\n",
       "      <td>1</td>\n",
       "      <td>11</td>\n",
       "      <td>0.0</td>\n",
       "      <td>1</td>\n",
       "      <td>0</td>\n",
       "    </tr>\n",
       "    <tr>\n",
       "      <th>1146256</th>\n",
       "      <td>0</td>\n",
       "      <td>12</td>\n",
       "      <td>1.0</td>\n",
       "      <td>2</td>\n",
       "      <td>1</td>\n",
       "    </tr>\n",
       "    <tr>\n",
       "      <th>1092482</th>\n",
       "      <td>1</td>\n",
       "      <td>13</td>\n",
       "      <td>0.0</td>\n",
       "      <td>6</td>\n",
       "      <td>0</td>\n",
       "    </tr>\n",
       "    <tr>\n",
       "      <th>1056766</th>\n",
       "      <td>0</td>\n",
       "      <td>14</td>\n",
       "      <td>2.0</td>\n",
       "      <td>8</td>\n",
       "      <td>0</td>\n",
       "    </tr>\n",
       "    <tr>\n",
       "      <th>1080066</th>\n",
       "      <td>2</td>\n",
       "      <td>15</td>\n",
       "      <td>0.0</td>\n",
       "      <td>5</td>\n",
       "      <td>0</td>\n",
       "    </tr>\n",
       "    <tr>\n",
       "      <th>1017171</th>\n",
       "      <td>0</td>\n",
       "      <td>16</td>\n",
       "      <td>3.0</td>\n",
       "      <td>6</td>\n",
       "      <td>0</td>\n",
       "    </tr>\n",
       "    <tr>\n",
       "      <th>1015482</th>\n",
       "      <td>3</td>\n",
       "      <td>17</td>\n",
       "      <td>1.0</td>\n",
       "      <td>3</td>\n",
       "      <td>0</td>\n",
       "    </tr>\n",
       "    <tr>\n",
       "      <th>1171951</th>\n",
       "      <td>1</td>\n",
       "      <td>18</td>\n",
       "      <td>0.0</td>\n",
       "      <td>13</td>\n",
       "      <td>0</td>\n",
       "    </tr>\n",
       "    <tr>\n",
       "      <th>1092137</th>\n",
       "      <td>0</td>\n",
       "      <td>19</td>\n",
       "      <td>1.0</td>\n",
       "      <td>5</td>\n",
       "      <td>0</td>\n",
       "    </tr>\n",
       "    <tr>\n",
       "      <th>1054222</th>\n",
       "      <td>1</td>\n",
       "      <td>20</td>\n",
       "      <td>1.0</td>\n",
       "      <td>1</td>\n",
       "      <td>0</td>\n",
       "    </tr>\n",
       "  </tbody>\n",
       "</table>\n",
       "</div>"
      ],
      "text/plain": [
       "         field0  field4  daysToNextOrder  field16  goal1\n",
       "orderid                                                 \n",
       "1162877       0       1              0.0        1      0\n",
       "1125446       0       2              0.0        1      0\n",
       "1039421       0       3             16.0        1      0\n",
       "1174386      16       4              0.0        4      0\n",
       "1083155       0       5              1.0        5      1\n",
       "1186621       1       6              0.0        5      0\n",
       "1102930       0       7              3.0        8      0\n",
       "1189031       3       8              0.0        3      0\n",
       "1177676       0       9              0.0        4      0\n",
       "1074136       0      10              1.0        8      0\n",
       "1174233       1      11              0.0        1      0\n",
       "1146256       0      12              1.0        2      1\n",
       "1092482       1      13              0.0        6      0\n",
       "1056766       0      14              2.0        8      0\n",
       "1080066       2      15              0.0        5      0\n",
       "1017171       0      16              3.0        6      0\n",
       "1015482       3      17              1.0        3      0\n",
       "1171951       1      18              0.0       13      0\n",
       "1092137       0      19              1.0        5      0\n",
       "1054222       1      20              1.0        1      0"
      ]
     },
     "execution_count": 109,
     "metadata": {},
     "output_type": "execute_result"
    }
   ],
   "source": [
    "initial_data [initial_data['userid']=='a4837464e50075c4f8b5820dab011496ba1f04a985ab2782f5cafe6dda94ed52'] [['field0','field4','daysToNextOrder','field16','goal1']].sort_values('field4').iloc[:20]"
   ]
  },
  {
   "cell_type": "code",
   "execution_count": 37,
   "metadata": {
    "ExecuteTime": {
     "end_time": "2020-01-15T17:06:05.442097Z",
     "start_time": "2020-01-15T17:06:04.711099Z"
    }
   },
   "outputs": [
    {
     "data": {
      "text/plain": [
       "<matplotlib.axes._subplots.AxesSubplot at 0x1d553e635f8>"
      ]
     },
     "execution_count": 37,
     "metadata": {},
     "output_type": "execute_result"
    },
    {
     "data": {
      "image/png": "[encoded data removed]",
      "text/plain": [
       "<Figure size 1152x648 with 1 Axes>"
      ]
     },
     "metadata": {
      "needs_background": "light"
     },
     "output_type": "display_data"
    }
   ],
   "source": [
    "f = data['field4_to_stdscore_groupby_userid'].compute()\n",
    "df = pd.DataFrame(index=initial_data[initial_data.goal1>=0].index)\n",
    "df['goal'] = initial_data.goal1\n",
    "df['feature'] = f\n",
    "plt.figure(figsize=(16,9))\n",
    "# sns.scatterplot(x='feature', y='goal', data=df)\n",
    "sns.distplot(f.loc[pos_idx],bins=50)\n",
    "sns.distplot(f.loc[neg_idx],bins=50)\n",
    "# plt.yscale('log')"
   ]
  },
  {
   "cell_type": "code",
   "execution_count": null,
   "metadata": {
    "ExecuteTime": {
     "end_time": "2020-01-15T17:05:03.466101Z",
     "start_time": "2020-01-15T17:05:02.984100Z"
    }
   },
   "outputs": [],
   "source": [
    "f = data['field4_to_stdscore_groupby_userid'].compute()\n",
    "df = pd.DataFrame(index=initial_data[initial_data.goal1>=0].index)\n",
    "df['goal'] = initial_data.goal1\n",
    "df['feature'] = f\n",
    "plt.figure(figsize=(16,9))\n",
    "# sns.scatterplot(x='feature', y='goal', data=df)\n",
    "sns.distplot(f.loc[pos_idx],bins=50)\n",
    "sns.distplot(f.loc[neg_idx],bins=50)\n",
    "# plt.yscale('log')"
   ]
  },
  {
   "cell_type": "code",
   "execution_count": null,
   "metadata": {},
   "outputs": [],
   "source": []
  }
 ],
 "metadata": {
  "kernelspec": {
   "display_name": "Python 3",
   "language": "python",
   "name": "python3"
  },
  "language_info": {
   "codemirror_mode": {
    "name": "ipython",
    "version": 3
   },
   "file_extension": ".py",
   "mimetype": "text/x-python",
   "name": "python",
   "nbconvert_exporter": "python",
   "pygments_lexer": "ipython3",
   "version": "3.6.5"
  },
  "toc": {
   "base_numbering": 1,
   "nav_menu": {},
   "number_sections": true,
   "sideBar": true,
   "skip_h1_title": false,
   "title_cell": "Table of Contents",
   "title_sidebar": "Contents",
   "toc_cell": false,
   "toc_position": {},
   "toc_section_display": true,
   "toc_window_display": false
  },
  "varInspector": {
   "cols": {
    "lenName": 16,
    "lenType": 16,
    "lenVar": 40
   },
   "kernels_config": {
    "python": {
     "delete_cmd_postfix": "",
     "delete_cmd_prefix": "del ",
     "library": "var_list.py",
     "varRefreshCmd": "print(var_dic_list())"
    },
    "r": {
     "delete_cmd_postfix": ") ",
     "delete_cmd_prefix": "rm(",
     "library": "var_list.r",
     "varRefreshCmd": "cat(var_dic_list()) "
    }
   },
   "types_to_exclude": [
    "module",
    "function",
    "builtin_function_or_method",
    "instance",
    "_Feature"
   ],
   "window_display": false
  }
 },
 "nbformat": 4,
 "nbformat_minor": 2
}
