{
 "cells": [
  {
   "cell_type": "code",
   "execution_count": 1,
   "metadata": {
    "ExecuteTime": {
     "end_time": "2019-12-15T17:17:28.477356Z",
     "start_time": "2019-12-15T17:17:28.444726Z"
    }
   },
   "outputs": [],
   "source": [
    "%load_ext autoreload\n",
    "%autoreload 2"
   ]
  },
  {
   "cell_type": "code",
   "execution_count": 2,
   "metadata": {
    "ExecuteTime": {
     "end_time": "2019-12-15T17:17:34.117908Z",
     "start_time": "2019-12-15T17:17:31.005908Z"
    }
   },
   "outputs": [
    {
     "name": "stderr",
     "output_type": "stream",
     "text": [
      "Using TensorFlow backend.\n",
      "c:\\python36\\lib\\site-packages\\tensorflow\\python\\framework\\dtypes.py:516: FutureWarning: Passing (type, 1) or '1type' as a synonym of type is deprecated; in a future version of numpy, it will be understood as (type, (1,)) / '(1,)type'.\n",
      "  _np_qint8 = np.dtype([(\"qint8\", np.int8, 1)])\n",
      "c:\\python36\\lib\\site-packages\\tensorflow\\python\\framework\\dtypes.py:517: FutureWarning: Passing (type, 1) or '1type' as a synonym of type is deprecated; in a future version of numpy, it will be understood as (type, (1,)) / '(1,)type'.\n",
      "  _np_quint8 = np.dtype([(\"quint8\", np.uint8, 1)])\n",
      "c:\\python36\\lib\\site-packages\\tensorflow\\python\\framework\\dtypes.py:518: FutureWarning: Passing (type, 1) or '1type' as a synonym of type is deprecated; in a future version of numpy, it will be understood as (type, (1,)) / '(1,)type'.\n",
      "  _np_qint16 = np.dtype([(\"qint16\", np.int16, 1)])\n",
      "c:\\python36\\lib\\site-packages\\tensorflow\\python\\framework\\dtypes.py:519: FutureWarning: Passing (type, 1) or '1type' as a synonym of type is deprecated; in a future version of numpy, it will be understood as (type, (1,)) / '(1,)type'.\n",
      "  _np_quint16 = np.dtype([(\"quint16\", np.uint16, 1)])\n",
      "c:\\python36\\lib\\site-packages\\tensorflow\\python\\framework\\dtypes.py:520: FutureWarning: Passing (type, 1) or '1type' as a synonym of type is deprecated; in a future version of numpy, it will be understood as (type, (1,)) / '(1,)type'.\n",
      "  _np_qint32 = np.dtype([(\"qint32\", np.int32, 1)])\n",
      "c:\\python36\\lib\\site-packages\\tensorflow\\python\\framework\\dtypes.py:525: FutureWarning: Passing (type, 1) or '1type' as a synonym of type is deprecated; in a future version of numpy, it will be understood as (type, (1,)) / '(1,)type'.\n",
      "  np_resource = np.dtype([(\"resource\", np.ubyte, 1)])\n",
      "c:\\python36\\lib\\site-packages\\tensorboard\\compat\\tensorflow_stub\\dtypes.py:541: FutureWarning: Passing (type, 1) or '1type' as a synonym of type is deprecated; in a future version of numpy, it will be understood as (type, (1,)) / '(1,)type'.\n",
      "  _np_qint8 = np.dtype([(\"qint8\", np.int8, 1)])\n",
      "c:\\python36\\lib\\site-packages\\tensorboard\\compat\\tensorflow_stub\\dtypes.py:542: FutureWarning: Passing (type, 1) or '1type' as a synonym of type is deprecated; in a future version of numpy, it will be understood as (type, (1,)) / '(1,)type'.\n",
      "  _np_quint8 = np.dtype([(\"quint8\", np.uint8, 1)])\n",
      "c:\\python36\\lib\\site-packages\\tensorboard\\compat\\tensorflow_stub\\dtypes.py:543: FutureWarning: Passing (type, 1) or '1type' as a synonym of type is deprecated; in a future version of numpy, it will be understood as (type, (1,)) / '(1,)type'.\n",
      "  _np_qint16 = np.dtype([(\"qint16\", np.int16, 1)])\n",
      "c:\\python36\\lib\\site-packages\\tensorboard\\compat\\tensorflow_stub\\dtypes.py:544: FutureWarning: Passing (type, 1) or '1type' as a synonym of type is deprecated; in a future version of numpy, it will be understood as (type, (1,)) / '(1,)type'.\n",
      "  _np_quint16 = np.dtype([(\"quint16\", np.uint16, 1)])\n",
      "c:\\python36\\lib\\site-packages\\tensorboard\\compat\\tensorflow_stub\\dtypes.py:545: FutureWarning: Passing (type, 1) or '1type' as a synonym of type is deprecated; in a future version of numpy, it will be understood as (type, (1,)) / '(1,)type'.\n",
      "  _np_qint32 = np.dtype([(\"qint32\", np.int32, 1)])\n",
      "c:\\python36\\lib\\site-packages\\tensorboard\\compat\\tensorflow_stub\\dtypes.py:550: FutureWarning: Passing (type, 1) or '1type' as a synonym of type is deprecated; in a future version of numpy, it will be understood as (type, (1,)) / '(1,)type'.\n",
      "  np_resource = np.dtype([(\"resource\", np.ubyte, 1)])\n"
     ]
    }
   ],
   "source": [
    "main_path = r'.'\n",
    "data_path = main_path+'/data'\n",
    "import sys\n",
    "sys.path.append(main_path)\n",
    "from BayDS.lib.pipeline import *\n",
    "from typing import List, Set, Dict, Optional, Any, Tuple, Type, Union\n",
    "from BayDS.lib.io import *\n",
    "from BayDS.lib.training import *\n",
    "import os"
   ]
  },
  {
   "cell_type": "code",
   "execution_count": 3,
   "metadata": {
    "ExecuteTime": {
     "end_time": "2019-12-15T17:17:36.767912Z",
     "start_time": "2019-12-15T17:17:34.503896Z"
    }
   },
   "outputs": [
    {
     "name": "stdout",
     "output_type": "stream",
     "text": [
      "---------------------------\n",
      "0: LoaderNode [2019-12-15 20:17:34]\n",
      "params:\n",
      " {'input_directory': './data', 'file': 'onetwotrip_challenge_train.csv'}\n",
      "---------------------------\n",
      "1: LoaderNode [2019-12-15 20:17:35]\n",
      "params:\n",
      " {'input_directory': './data', 'file': 'onetwotrip_challenge_test.csv'}\n"
     ]
    }
   ],
   "source": [
    "p = Pipeline(working_folder=f'{main_path}/Snapshots/1')\n",
    "p.add_node(LoaderNode, None, 'train',\n",
    "           params={\n",
    "               'input_directory': data_path,\n",
    "               'file': 'onetwotrip_challenge_train.csv'\n",
    "           })\n",
    "p.add_node(LoaderNode, None, 'test',\n",
    "           params={\n",
    "               'input_directory': data_path,\n",
    "               'file': 'onetwotrip_challenge_test.csv'\n",
    "           })\n",
    "p.run()\n"
   ]
  },
  {
   "cell_type": "code",
   "execution_count": 4,
   "metadata": {
    "ExecuteTime": {
     "end_time": "2019-12-15T17:17:38.265913Z",
     "start_time": "2019-12-15T17:17:37.179896Z"
    }
   },
   "outputs": [
    {
     "name": "stdout",
     "output_type": "stream",
     "text": [
      "---------------------------\n",
      "2: FunctionNode [2019-12-15 20:17:37]\n",
      "params:\n",
      " {'function': <function mix_train_test at 0x0000027E6C8831E0>}\n"
     ]
    }
   ],
   "source": [
    "def mix_train_test(dfs):\n",
    "    df_train, df_test = dfs\n",
    "    df_train['orderid'] = df_train['orderid'] + 1000000\n",
    "    df_train = df_train.set_index('orderid')\n",
    "    df_test = df_test.set_index('orderid')\n",
    "    data = pd.concat([df_train, df_test], axis=0, sort=False )\n",
    "    data.fillna(-1,inplace=True)\n",
    "    return data\n",
    "\n",
    "p.add_node(FunctionNode, ('train','test'),'data',\n",
    "           params={\n",
    "               'function': mix_train_test\n",
    "           })\n",
    "p.run()"
   ]
  },
  {
   "cell_type": "code",
   "execution_count": 5,
   "metadata": {
    "ExecuteTime": {
     "end_time": "2019-12-15T17:17:38.813896Z",
     "start_time": "2019-12-15T17:17:38.662897Z"
    }
   },
   "outputs": [
    {
     "name": "stdout",
     "output_type": "stream",
     "text": [
      "---------------------------\n",
      "3: EraserNode [2019-12-15 20:17:38]\n",
      "params:\n",
      " {'remove_keys': ['train', 'test']}\n"
     ]
    }
   ],
   "source": [
    "p.add_node(EraserNode, params={\n",
    "    'remove_keys': ['train', 'test']\n",
    "})\n",
    "p.run()"
   ]
  },
  {
   "cell_type": "code",
   "execution_count": 6,
   "metadata": {
    "ExecuteTime": {
     "end_time": "2019-12-15T17:17:40.056256Z",
     "start_time": "2019-12-15T17:17:39.445256Z"
    }
   },
   "outputs": [
    {
     "name": "stdout",
     "output_type": "stream",
     "text": [
      "---------------------------\n",
      "4: FunctionNode [2019-12-15 20:17:39]\n",
      "params:\n",
      " {'function': <function set_categorical_features at 0x0000027E06B42EA0>}\n"
     ]
    }
   ],
   "source": [
    "def set_categorical_features(df):\n",
    "    cat_fields = ['field12', 'field26', 'field27', 'field29']\n",
    "    for f in cat_fields:\n",
    "        df[f] = pd.Categorical(df[f])\n",
    "    return df\n",
    "\n",
    "p.add_node(FunctionNode, 'data','data',\n",
    "           params={\n",
    "               'function': set_categorical_features\n",
    "           })\n",
    "p.run()\n"
   ]
  },
  {
   "cell_type": "markdown",
   "metadata": {},
   "source": [
    "## Features"
   ]
  },
  {
   "cell_type": "code",
   "execution_count": 7,
   "metadata": {
    "ExecuteTime": {
     "end_time": "2019-12-15T17:17:43.860172Z",
     "start_time": "2019-12-15T17:17:43.733172Z"
    }
   },
   "outputs": [
    {
     "data": {
      "text/plain": [
       "Index(['userid', 'field0', 'field1', 'field2', 'field3', 'field4', 'field5',\n",
       "       'field6', 'field7', 'field8', 'field9', 'field10', 'field11', 'field12',\n",
       "       'field13', 'field14', 'field15', 'field16', 'field17', 'field18',\n",
       "       'field19', 'field20', 'field21', 'field22', 'field23', 'field24',\n",
       "       'field25', 'field26', 'field27', 'field28', 'field29',\n",
       "       'indicator_goal21', 'indicator_goal22', 'indicator_goal23',\n",
       "       'indicator_goal24', 'indicator_goal25', 'goal21', 'goal22', 'goal23',\n",
       "       'goal24', 'goal25', 'goal1'],\n",
       "      dtype='object')"
      ]
     },
     "execution_count": 7,
     "metadata": {},
     "output_type": "execute_result"
    }
   ],
   "source": [
    "p.data['data'].columns"
   ]
  },
  {
   "cell_type": "code",
   "execution_count": 8,
   "metadata": {
    "ExecuteTime": {
     "end_time": "2019-12-15T17:20:01.040429Z",
     "start_time": "2019-12-15T17:17:45.206147Z"
    }
   },
   "outputs": [
    {
     "name": "stdout",
     "output_type": "stream",
     "text": [
      "---------------------------\n",
      "5: AddAggregatesTotalNode [2019-12-15 20:17:45]\n",
      "params:\n",
      " {'features': ['field0', 'field1', 'field6', 'field9', 'field11', 'field13', 'field14', 'field15', 'field16', 'field17', 'field19', 'field22', 'field23', 'field24', 'field25', 'field28'], 'group_by': 'field5'}\n",
      "---------------------------\n",
      "6: AddAggregatesTotalNode [2019-12-15 20:17:48]\n",
      "params:\n",
      " {'features': ['field0', 'field1', 'field6', 'field9', 'field11', 'field13', 'field14', 'field15', 'field16', 'field17', 'field19', 'field22', 'field23', 'field24', 'field25', 'field28'], 'group_by': 'field7'}\n",
      "---------------------------\n",
      "7: AddAggregatesTotalNode [2019-12-15 20:17:53]\n",
      "params:\n",
      " {'features': ['field0', 'field1', 'field6', 'field9', 'field11', 'field13', 'field14', 'field15', 'field16', 'field17', 'field19', 'field22', 'field23', 'field24', 'field25', 'field28'], 'group_by': 'field8'}\n",
      "---------------------------\n",
      "8: AddAggregatesTotalNode [2019-12-15 20:18:00]\n",
      "params:\n",
      " {'features': ['field0', 'field1', 'field6', 'field9', 'field11', 'field13', 'field14', 'field15', 'field16', 'field17', 'field19', 'field22', 'field23', 'field24', 'field25', 'field28'], 'group_by': 'field10'}\n",
      "---------------------------\n",
      "9: AddAggregatesTotalNode [2019-12-15 20:18:10]\n",
      "params:\n",
      " {'features': ['field0', 'field1', 'field6', 'field9', 'field11', 'field13', 'field14', 'field15', 'field16', 'field17', 'field19', 'field22', 'field23', 'field24', 'field25', 'field28'], 'group_by': 'field12'}\n",
      "---------------------------\n",
      "10: AddAggregatesTotalNode [2019-12-15 20:18:22]\n",
      "params:\n",
      " {'features': ['field0', 'field1', 'field6', 'field9', 'field11', 'field13', 'field14', 'field15', 'field16', 'field17', 'field19', 'field22', 'field23', 'field24', 'field25', 'field28'], 'group_by': 'field26'}\n",
      "---------------------------\n",
      "11: AddAggregatesTotalNode [2019-12-15 20:18:35]\n",
      "params:\n",
      " {'features': ['field0', 'field1', 'field6', 'field9', 'field11', 'field13', 'field14', 'field15', 'field16', 'field17', 'field19', 'field22', 'field23', 'field24', 'field25', 'field28'], 'group_by': 'field27'}\n",
      "---------------------------\n",
      "12: AddAggregatesTotalNode [2019-12-15 20:18:52]\n",
      "params:\n",
      " {'features': ['field0', 'field1', 'field6', 'field9', 'field11', 'field13', 'field14', 'field15', 'field16', 'field17', 'field19', 'field22', 'field23', 'field24', 'field25', 'field28'], 'group_by': 'field29'}\n",
      "---------------------------\n",
      "13: AddAggregatesTotalNode [2019-12-15 20:19:11]\n",
      "params:\n",
      " {'features': ['field0', 'field1', 'field6', 'field9', 'field11', 'field13', 'field14', 'field15', 'field16', 'field17', 'field19', 'field22', 'field23', 'field24', 'field25', 'field28'], 'group_by': 'userid'}\n"
     ]
    }
   ],
   "source": [
    "num_features = [0,1,6,9,11,13,14,15,16,17,19,22,23,24,25,28]\n",
    "groupby_features = [f'field{q}' for q in [5,7,8,10,12,26,27,29]] + ['userid']\n",
    "for gb in groupby_features:\n",
    "    p.add_node(AddAggregatesTotalNode, 'data','data',\n",
    "               params={\n",
    "                   'features': [f'field{q}' for q in num_features],\n",
    "                   'group_by': gb\n",
    "               })\n",
    "p.run()"
   ]
  },
  {
   "cell_type": "code",
   "execution_count": 9,
   "metadata": {
    "ExecuteTime": {
     "end_time": "2019-12-15T17:20:13.844918Z",
     "start_time": "2019-12-15T17:20:13.716918Z"
    }
   },
   "outputs": [
    {
     "data": {
      "text/plain": [
       "Index(['userid', 'field0', 'field1', 'field2', 'field3', 'field4', 'field5',\n",
       "       'field6', 'field7', 'field8',\n",
       "       ...\n",
       "       'field22_to_mean_userid', 'field22_to_std_userid',\n",
       "       'field23_to_mean_userid', 'field23_to_std_userid',\n",
       "       'field24_to_mean_userid', 'field24_to_std_userid',\n",
       "       'field25_to_mean_userid', 'field25_to_std_userid',\n",
       "       'field28_to_mean_userid', 'field28_to_std_userid'],\n",
       "      dtype='object', length=330)"
      ]
     },
     "execution_count": 9,
     "metadata": {},
     "output_type": "execute_result"
    }
   ],
   "source": [
    "p.data['data'].columns"
   ]
  },
  {
   "cell_type": "code",
   "execution_count": null,
   "metadata": {},
   "outputs": [],
   "source": []
  },
  {
   "cell_type": "code",
   "execution_count": null,
   "metadata": {},
   "outputs": [],
   "source": []
  },
  {
   "cell_type": "code",
   "execution_count": null,
   "metadata": {},
   "outputs": [],
   "source": []
  },
  {
   "cell_type": "code",
   "execution_count": null,
   "metadata": {},
   "outputs": [],
   "source": []
  },
  {
   "cell_type": "code",
   "execution_count": null,
   "metadata": {},
   "outputs": [],
   "source": []
  },
  {
   "cell_type": "markdown",
   "metadata": {},
   "source": [
    "## Training\n"
   ]
  },
  {
   "cell_type": "code",
   "execution_count": 10,
   "metadata": {
    "ExecuteTime": {
     "end_time": "2019-12-15T17:20:22.292101Z",
     "start_time": "2019-12-15T17:20:22.165086Z"
    }
   },
   "outputs": [],
   "source": [
    "exclude_features_from_training = ['indicator_goal21', 'indicator_goal22', 'indicator_goal23',\n",
    "       'indicator_goal24', 'indicator_goal25', 'goal21', 'goal22', 'goal23',\n",
    "       'goal24', 'goal25', 'goal1','userid',]"
   ]
  },
  {
   "cell_type": "code",
   "execution_count": 11,
   "metadata": {
    "ExecuteTime": {
     "end_time": "2019-12-15T17:20:25.088556Z",
     "start_time": "2019-12-15T17:20:23.141555Z"
    }
   },
   "outputs": [],
   "source": [
    "data = p.data['data']\n",
    "X = data[data['goal1']>=0].drop(['goal1'], axis=1)\n",
    "y = data[data['goal1']>=0]['goal1']\n",
    "test=data[data['goal1']<0]\n",
    "train_features = [f for f in data.columns if f not in exclude_features_from_training]\n"
   ]
  },
  {
   "cell_type": "code",
   "execution_count": 12,
   "metadata": {
    "ExecuteTime": {
     "end_time": "2019-12-15T17:20:52.180186Z",
     "start_time": "2019-12-15T17:20:52.053186Z"
    }
   },
   "outputs": [],
   "source": [
    "from sklearn.model_selection import GroupKFold, KFold\n",
    "\n",
    "NFOLDS = 5\n",
    "folds = GroupKFold(n_splits=NFOLDS)\n",
    "params = {\n",
    "          'objective': 'binary',\n",
    "          \"metric\": 'auc',\n",
    "          \"verbosity\": -1,\n",
    "         }\n",
    "train_options = {\n",
    "        \"model_type\":'lgb',\n",
    "        \"params\": params,\n",
    "        \"eval_metric\":'auc',\n",
    "        'early_stopping_rounds': 100,\n",
    "        'n_estimators': 500,\n",
    "        'averaging': 'rank',\n",
    "        'use_groups': False,\n",
    "        'fold_name': folds.__class__.__name__,\n",
    "        'n_splits': NFOLDS\n",
    "    }"
   ]
  },
  {
   "cell_type": "code",
   "execution_count": 13,
   "metadata": {
    "ExecuteTime": {
     "end_time": "2019-12-15T17:23:30.630165Z",
     "start_time": "2019-12-15T17:21:05.077144Z"
    }
   },
   "outputs": [
    {
     "name": "stdout",
     "output_type": "stream",
     "text": [
      "Fold 1 started at Sun Dec 15 20:21:06 2019\n",
      "Training until validation scores don't improve for 100 rounds.\n",
      "[100]\ttraining's auc: 0.892444\ttraining's auc: 0.892444\tvalid_1's auc: 0.672213\tvalid_1's auc: 0.672213\n",
      "Early stopping, best iteration is:\n",
      "[67]\ttraining's auc: 0.857729\ttraining's auc: 0.857729\tvalid_1's auc: 0.676682\tvalid_1's auc: 0.676682\n",
      "Fold 2 started at Sun Dec 15 20:21:38 2019\n",
      "Training until validation scores don't improve for 100 rounds.\n",
      "[100]\ttraining's auc: 0.890783\ttraining's auc: 0.890783\tvalid_1's auc: 0.705956\tvalid_1's auc: 0.705956\n",
      "Early stopping, best iteration is:\n",
      "[40]\ttraining's auc: 0.817173\ttraining's auc: 0.817173\tvalid_1's auc: 0.72028\tvalid_1's auc: 0.720279\n",
      "Fold 3 started at Sun Dec 15 20:22:05 2019\n",
      "Training until validation scores don't improve for 100 rounds.\n",
      "[100]\ttraining's auc: 0.890927\ttraining's auc: 0.890927\tvalid_1's auc: 0.688385\tvalid_1's auc: 0.688385\n",
      "Early stopping, best iteration is:\n",
      "[33]\ttraining's auc: 0.803194\ttraining's auc: 0.803194\tvalid_1's auc: 0.697678\tvalid_1's auc: 0.697678\n",
      "Fold 4 started at Sun Dec 15 20:22:32 2019\n",
      "Training until validation scores don't improve for 100 rounds.\n",
      "[100]\ttraining's auc: 0.893938\ttraining's auc: 0.893938\tvalid_1's auc: 0.670133\tvalid_1's auc: 0.670133\n",
      "Early stopping, best iteration is:\n",
      "[19]\ttraining's auc: 0.762064\ttraining's auc: 0.76206\tvalid_1's auc: 0.682372\tvalid_1's auc: 0.68237\n",
      "Fold 5 started at Sun Dec 15 20:22:56 2019\n",
      "Training until validation scores don't improve for 100 rounds.\n",
      "[100]\ttraining's auc: 0.897767\ttraining's auc: 0.897767\tvalid_1's auc: 0.67851\tvalid_1's auc: 0.67851\n",
      "Early stopping, best iteration is:\n",
      "[64]\ttraining's auc: 0.860188\ttraining's auc: 0.860188\tvalid_1's auc: 0.683365\tvalid_1's auc: 0.683365\n",
      "CV mean score: 0.6921, std: 0.0157.\n"
     ]
    },
    {
     "data": {
      "image/png": "[encoded data removed]",
      "text/plain": [
       "<Figure size 1152x864 with 1 Axes>"
      ]
     },
     "metadata": {
      "needs_background": "light"
     },
     "output_type": "display_data"
    }
   ],
   "source": [
    "result_dict = train_model_classification_vb( X=X, \n",
    "                                             X_test=test, \n",
    "                                             columns=train_features,\n",
    "                                             y=y, \n",
    "                                             params=params, folds=folds,\n",
    "                                             model_type=train_options['model_type'], \n",
    "                                             plot_feature_importance=True,\n",
    "                                             verbose=100, early_stopping_rounds=train_options['early_stopping_rounds'],\n",
    "                                             n_estimators=train_options['n_estimators'], \n",
    "                                             averaging=train_options['averaging'],\n",
    "                                             groups=X['userid'],\n",
    "                                             n_jobs=-1)"
   ]
  },
  {
   "cell_type": "code",
   "execution_count": 14,
   "metadata": {
    "ExecuteTime": {
     "end_time": "2019-12-15T17:24:07.011882Z",
     "start_time": "2019-12-15T17:24:05.438089Z"
    }
   },
   "outputs": [],
   "source": [
    "import datetime\n",
    "t = datetime.datetime.now().strftime(\"%m-%d-%H-%M\")\n",
    "test['proba'] = result_dict['prediction']\n",
    "sub = pd.read_csv('data/onetwotrip_challenge_sub1.csv')\n",
    "sub['proba'] = test['proba'] / test['proba'].max()\n",
    "sub.reset_index(drop=True).set_index('orderid').to_csv(f'{p.working_folder}/submission-{t}.csv')"
   ]
  },
  {
   "cell_type": "code",
   "execution_count": 38,
   "metadata": {
    "ExecuteTime": {
     "end_time": "2019-12-15T16:30:43.566817Z",
     "start_time": "2019-12-15T16:30:43.439830Z"
    }
   },
   "outputs": [
    {
     "data": {
      "text/plain": [
       "'12-15-19-30'"
      ]
     },
     "execution_count": 38,
     "metadata": {},
     "output_type": "execute_result"
    }
   ],
   "source": []
  },
  {
   "cell_type": "code",
   "execution_count": null,
   "metadata": {},
   "outputs": [],
   "source": []
  },
  {
   "cell_type": "code",
   "execution_count": null,
   "metadata": {},
   "outputs": [],
   "source": []
  },
  {
   "cell_type": "code",
   "execution_count": null,
   "metadata": {},
   "outputs": [],
   "source": []
  },
  {
   "cell_type": "code",
   "execution_count": null,
   "metadata": {},
   "outputs": [],
   "source": []
  },
  {
   "cell_type": "markdown",
   "metadata": {},
   "source": [
    "## Results"
   ]
  },
  {
   "cell_type": "markdown",
   "metadata": {},
   "source": [
    "### NO FE. initial"
   ]
  },
  {
   "cell_type": "code",
   "execution_count": 22,
   "metadata": {
    "ExecuteTime": {
     "end_time": "2019-12-15T16:18:38.283347Z",
     "start_time": "2019-12-15T16:17:46.398448Z"
    }
   },
   "outputs": [
    {
     "name": "stdout",
     "output_type": "stream",
     "text": [
      "Fold 1 started at Sun Dec 15 19:17:47 2019\n",
      "Training until validation scores don't improve for 100 rounds.\n",
      "[100]\ttraining's auc: 0.8352\ttraining's auc: 0.8352\tvalid_1's auc: 0.660413\tvalid_1's auc: 0.660413\n",
      "Early stopping, best iteration is:\n",
      "[36]\ttraining's auc: 0.769533\ttraining's auc: 0.769533\tvalid_1's auc: 0.671052\tvalid_1's auc: 0.671052\n",
      "Fold 2 started at Sun Dec 15 19:17:58 2019\n",
      "Training until validation scores don't improve for 100 rounds.\n",
      "[100]\ttraining's auc: 0.832962\ttraining's auc: 0.832962\tvalid_1's auc: 0.708005\tvalid_1's auc: 0.708005\n",
      "Early stopping, best iteration is:\n",
      "[27]\ttraining's auc: 0.742707\ttraining's auc: 0.742708\tvalid_1's auc: 0.71381\tvalid_1's auc: 0.713811\n",
      "Fold 3 started at Sun Dec 15 19:18:06 2019\n",
      "Training until validation scores don't improve for 100 rounds.\n",
      "[100]\ttraining's auc: 0.833846\ttraining's auc: 0.833846\tvalid_1's auc: 0.684287\tvalid_1's auc: 0.684287\n",
      "Early stopping, best iteration is:\n",
      "[28]\ttraining's auc: 0.753781\ttraining's auc: 0.753782\tvalid_1's auc: 0.68777\tvalid_1's auc: 0.687769\n",
      "Fold 4 started at Sun Dec 15 19:18:15 2019\n",
      "Training until validation scores don't improve for 100 rounds.\n",
      "[100]\ttraining's auc: 0.842549\ttraining's auc: 0.842549\tvalid_1's auc: 0.657629\tvalid_1's auc: 0.657629\n",
      "Early stopping, best iteration is:\n",
      "[53]\ttraining's auc: 0.79248\ttraining's auc: 0.79248\tvalid_1's auc: 0.665793\tvalid_1's auc: 0.665793\n",
      "Fold 5 started at Sun Dec 15 19:18:27 2019\n",
      "Training until validation scores don't improve for 100 rounds.\n",
      "[100]\ttraining's auc: 0.844072\ttraining's auc: 0.844072\tvalid_1's auc: 0.665643\tvalid_1's auc: 0.665643\n",
      "Early stopping, best iteration is:\n",
      "[35]\ttraining's auc: 0.770256\ttraining's auc: 0.770257\tvalid_1's auc: 0.672523\tvalid_1's auc: 0.672525\n",
      "CV mean score: 0.6822, std: 0.0174.\n"
     ]
    },
    {
     "data": {
      "image/png": "[encoded data removed]",
      "text/plain": [
       "<Figure size 1152x864 with 1 Axes>"
      ]
     },
     "metadata": {
      "needs_background": "light"
     },
     "output_type": "display_data"
    }
   ],
   "source": [
    "result_dict = train_model_classification_vb( X=X, \n",
    "                                             X_test=test, \n",
    "                                             columns=train_features,\n",
    "                                             y=y, \n",
    "                                             params=params, folds=folds,\n",
    "                                             model_type=train_options['model_type'], \n",
    "                                             plot_feature_importance=True,\n",
    "                                             verbose=100, early_stopping_rounds=train_options['early_stopping_rounds'],\n",
    "                                             n_estimators=train_options['n_estimators'], \n",
    "                                             averaging=train_options['averaging'],\n",
    "                                             groups=X['userid'],\n",
    "                                             n_jobs=-1)"
   ]
  },
  {
   "cell_type": "code",
   "execution_count": null,
   "metadata": {},
   "outputs": [],
   "source": []
  },
  {
   "cell_type": "code",
   "execution_count": null,
   "metadata": {},
   "outputs": [],
   "source": []
  },
  {
   "cell_type": "code",
   "execution_count": null,
   "metadata": {},
   "outputs": [],
   "source": []
  },
  {
   "cell_type": "code",
   "execution_count": null,
   "metadata": {},
   "outputs": [],
   "source": []
  }
 ],
 "metadata": {
  "kernelspec": {
   "display_name": "Python 3",
   "language": "python",
   "name": "python3"
  },
  "toc": {
   "base_numbering": 1,
   "nav_menu": {},
   "number_sections": true,
   "sideBar": true,
   "skip_h1_title": false,
   "title_cell": "Table of Contents",
   "title_sidebar": "Contents",
   "toc_cell": false,
   "toc_position": {},
   "toc_section_display": true,
   "toc_window_display": false
  },
  "varInspector": {
   "cols": {
    "lenName": 16,
    "lenType": 16,
    "lenVar": 40
   },
   "kernels_config": {
    "python": {
     "delete_cmd_postfix": "",
     "delete_cmd_prefix": "del ",
     "library": "var_list.py",
     "varRefreshCmd": "print(var_dic_list())"
    },
    "r": {
     "delete_cmd_postfix": ") ",
     "delete_cmd_prefix": "rm(",
     "library": "var_list.r",
     "varRefreshCmd": "cat(var_dic_list()) "
    }
   },
   "types_to_exclude": [
    "module",
    "function",
    "builtin_function_or_method",
    "instance",
    "_Feature"
   ],
   "window_display": false
  }
 },
 "nbformat": 4,
 "nbformat_minor": 2
}
