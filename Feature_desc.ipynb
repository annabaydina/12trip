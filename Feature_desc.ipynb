{
 "cells": [
  {
   "cell_type": "markdown",
   "metadata": {},
   "source": [
    "# Features\n"
   ]
  },
  {
   "cell_type": "markdown",
   "metadata": {},
   "source": [
    "Field0: \n",
    "\n",
    "Field1: Цена заказа (scaled)\n",
    "\n",
    "Field2: Месяц покупки\n",
    "\n",
    "Field3: Месяц вылета\n",
    "\n",
    "Field4: Последовательный номер заказа для юзера (аналог даты)\n",
    "\n",
    "Field5: \n",
    "\n",
    "Field6: \n",
    "\n",
    "Field7: \n",
    "\n",
    "Field8: \n",
    "\n",
    "Field9: Кол-во пупесов в заказе\n",
    "\n",
    "Field10: \n",
    "\n",
    "Field11: Час заказа или вылета\n",
    "\n",
    "Field12: страна или место вылета/прилёта\n",
    "\n",
    "Field13: \n",
    "\n",
    "Field14: Цена одного билета в заказе? \n",
    "\n",
    "Field15: Суммарное количество билетов в заказе\n",
    "\n",
    "Field16: Кол-во минут до заказа\n",
    "\n",
    "Field17: \n",
    "\n",
    "Field18: День недели заказа\n",
    "\n",
    "Field19: \n",
    "\n",
    "Field20: День недели вылета\n",
    "\n",
    "Field21: Год заказа\n",
    "\n",
    "Field22: \n",
    "\n",
    "Field23: Час вылета\n",
    "\n",
    "Field24: Кол-во взрослых билетов в заказе\n",
    "\n",
    "Field25: \n",
    "\n",
    "Field26: \n",
    "\n",
    "Field27: Язык? (1,3 - много, всего 7 категорий)\n",
    "\n",
    "Field28: Кол-во детей от 2 до 6 в заказе\n",
    "\n",
    "Field29: Сезон\n",
    "\n",
    "\n",
    "\n"
   ]
  },
  {
   "cell_type": "markdown",
   "metadata": {},
   "source": []
  },
  {
   "cell_type": "markdown",
   "metadata": {},
   "source": []
  },
  {
   "cell_type": "markdown",
   "metadata": {},
   "source": []
  },
  {
   "cell_type": "markdown",
   "metadata": {},
   "source": []
  },
  {
   "cell_type": "markdown",
   "metadata": {},
   "source": []
  },
  {
   "cell_type": "markdown",
   "metadata": {},
   "source": []
  },
  {
   "cell_type": "markdown",
   "metadata": {},
   "source": []
  },
  {
   "cell_type": "markdown",
   "metadata": {},
   "source": []
  },
  {
   "cell_type": "markdown",
   "metadata": {},
   "source": []
  },
  {
   "cell_type": "markdown",
   "metadata": {},
   "source": []
  },
  {
   "cell_type": "markdown",
   "metadata": {},
   "source": []
  },
  {
   "cell_type": "markdown",
   "metadata": {},
   "source": []
  }
 ],
 "metadata": {
  "kernelspec": {
   "display_name": "Python 3",
   "language": "python",
   "name": "python3"
  },
  "language_info": {
   "codemirror_mode": {
    "name": "ipython",
    "version": 3
   },
   "file_extension": ".py",
   "mimetype": "text/x-python",
   "name": "python",
   "nbconvert_exporter": "python",
   "pygments_lexer": "ipython3",
   "version": "3.6.5"
  },
  "toc": {
   "base_numbering": 1,
   "nav_menu": {},
   "number_sections": true,
   "sideBar": true,
   "skip_h1_title": false,
   "title_cell": "Table of Contents",
   "title_sidebar": "Contents",
   "toc_cell": false,
   "toc_position": {},
   "toc_section_display": true,
   "toc_window_display": false
  },
  "varInspector": {
   "cols": {
    "lenName": 16,
    "lenType": 16,
    "lenVar": 40
   },
   "kernels_config": {
    "python": {
     "delete_cmd_postfix": "",
     "delete_cmd_prefix": "del ",
     "library": "var_list.py",
     "varRefreshCmd": "print(var_dic_list())"
    },
    "r": {
     "delete_cmd_postfix": ") ",
     "delete_cmd_prefix": "rm(",
     "library": "var_list.r",
     "varRefreshCmd": "cat(var_dic_list()) "
    }
   },
   "types_to_exclude": [
    "module",
    "function",
    "builtin_function_or_method",
    "instance",
    "_Feature"
   ],
   "window_display": false
  }
 },
 "nbformat": 4,
 "nbformat_minor": 2
}
