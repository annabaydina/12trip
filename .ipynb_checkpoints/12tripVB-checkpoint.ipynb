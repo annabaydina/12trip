{
 "cells": [
  {
   "cell_type": "code",
   "execution_count": 1,
   "metadata": {
    "ExecuteTime": {
     "end_time": "2019-12-07T12:11:45.834794Z",
     "start_time": "2019-12-07T12:11:44.877628Z"
    }
   },
   "outputs": [],
   "source": [
    "import pandas as pd\n",
    "from sklearn.metrics import roc_auc_score\n",
    "from sklearn.model_selection import cross_val_score\n",
    "import numpy as np\n",
    "from matplotlib import pyplot as plt\n",
    "%matplotlib inline\n",
    "import seaborn as sns"
   ]
  },
  {
   "cell_type": "code",
   "execution_count": 2,
   "metadata": {
    "ExecuteTime": {
     "end_time": "2019-12-07T12:12:22.873473Z",
     "start_time": "2019-12-07T12:11:45.840767Z"
    }
   },
   "outputs": [
    {
     "name": "stderr",
     "output_type": "stream",
     "text": [
      "Using TensorFlow backend.\n",
      "c:\\python36\\lib\\site-packages\\tensorflow\\python\\framework\\dtypes.py:516: FutureWarning: Passing (type, 1) or '1type' as a synonym of type is deprecated; in a future version of numpy, it will be understood as (type, (1,)) / '(1,)type'.\n",
      "  _np_qint8 = np.dtype([(\"qint8\", np.int8, 1)])\n",
      "c:\\python36\\lib\\site-packages\\tensorflow\\python\\framework\\dtypes.py:517: FutureWarning: Passing (type, 1) or '1type' as a synonym of type is deprecated; in a future version of numpy, it will be understood as (type, (1,)) / '(1,)type'.\n",
      "  _np_quint8 = np.dtype([(\"quint8\", np.uint8, 1)])\n",
      "c:\\python36\\lib\\site-packages\\tensorflow\\python\\framework\\dtypes.py:518: FutureWarning: Passing (type, 1) or '1type' as a synonym of type is deprecated; in a future version of numpy, it will be understood as (type, (1,)) / '(1,)type'.\n",
      "  _np_qint16 = np.dtype([(\"qint16\", np.int16, 1)])\n",
      "c:\\python36\\lib\\site-packages\\tensorflow\\python\\framework\\dtypes.py:519: FutureWarning: Passing (type, 1) or '1type' as a synonym of type is deprecated; in a future version of numpy, it will be understood as (type, (1,)) / '(1,)type'.\n",
      "  _np_quint16 = np.dtype([(\"quint16\", np.uint16, 1)])\n",
      "c:\\python36\\lib\\site-packages\\tensorflow\\python\\framework\\dtypes.py:520: FutureWarning: Passing (type, 1) or '1type' as a synonym of type is deprecated; in a future version of numpy, it will be understood as (type, (1,)) / '(1,)type'.\n",
      "  _np_qint32 = np.dtype([(\"qint32\", np.int32, 1)])\n",
      "c:\\python36\\lib\\site-packages\\tensorflow\\python\\framework\\dtypes.py:525: FutureWarning: Passing (type, 1) or '1type' as a synonym of type is deprecated; in a future version of numpy, it will be understood as (type, (1,)) / '(1,)type'.\n",
      "  np_resource = np.dtype([(\"resource\", np.ubyte, 1)])\n",
      "c:\\python36\\lib\\site-packages\\tensorboard\\compat\\tensorflow_stub\\dtypes.py:541: FutureWarning: Passing (type, 1) or '1type' as a synonym of type is deprecated; in a future version of numpy, it will be understood as (type, (1,)) / '(1,)type'.\n",
      "  _np_qint8 = np.dtype([(\"qint8\", np.int8, 1)])\n",
      "c:\\python36\\lib\\site-packages\\tensorboard\\compat\\tensorflow_stub\\dtypes.py:542: FutureWarning: Passing (type, 1) or '1type' as a synonym of type is deprecated; in a future version of numpy, it will be understood as (type, (1,)) / '(1,)type'.\n",
      "  _np_quint8 = np.dtype([(\"quint8\", np.uint8, 1)])\n",
      "c:\\python36\\lib\\site-packages\\tensorboard\\compat\\tensorflow_stub\\dtypes.py:543: FutureWarning: Passing (type, 1) or '1type' as a synonym of type is deprecated; in a future version of numpy, it will be understood as (type, (1,)) / '(1,)type'.\n",
      "  _np_qint16 = np.dtype([(\"qint16\", np.int16, 1)])\n",
      "c:\\python36\\lib\\site-packages\\tensorboard\\compat\\tensorflow_stub\\dtypes.py:544: FutureWarning: Passing (type, 1) or '1type' as a synonym of type is deprecated; in a future version of numpy, it will be understood as (type, (1,)) / '(1,)type'.\n",
      "  _np_quint16 = np.dtype([(\"quint16\", np.uint16, 1)])\n",
      "c:\\python36\\lib\\site-packages\\tensorboard\\compat\\tensorflow_stub\\dtypes.py:545: FutureWarning: Passing (type, 1) or '1type' as a synonym of type is deprecated; in a future version of numpy, it will be understood as (type, (1,)) / '(1,)type'.\n",
      "  _np_qint32 = np.dtype([(\"qint32\", np.int32, 1)])\n",
      "c:\\python36\\lib\\site-packages\\tensorboard\\compat\\tensorflow_stub\\dtypes.py:550: FutureWarning: Passing (type, 1) or '1type' as a synonym of type is deprecated; in a future version of numpy, it will be understood as (type, (1,)) / '(1,)type'.\n",
      "  np_resource = np.dtype([(\"resource\", np.ubyte, 1)])\n"
     ]
    }
   ],
   "source": [
    "import sys\n",
    "from BayDS.lib.training import *"
   ]
  },
  {
   "cell_type": "code",
   "execution_count": 3,
   "metadata": {
    "ExecuteTime": {
     "end_time": "2019-12-07T12:12:22.883451Z",
     "start_time": "2019-12-07T12:12:22.879444Z"
    }
   },
   "outputs": [],
   "source": [
    "from catboost import CatBoostClassifier"
   ]
  },
  {
   "cell_type": "code",
   "execution_count": 4,
   "metadata": {
    "ExecuteTime": {
     "end_time": "2019-12-07T12:12:24.784459Z",
     "start_time": "2019-12-07T12:12:22.891443Z"
    }
   },
   "outputs": [],
   "source": [
    "df_train = pd.read_csv('data/onetwotrip_challenge_train.csv')\n",
    "df_test = pd.read_csv('data/onetwotrip_challenge_test.csv')\n"
   ]
  },
  {
   "cell_type": "code",
   "execution_count": 5,
   "metadata": {
    "ExecuteTime": {
     "end_time": "2019-12-07T12:12:25.003459Z",
     "start_time": "2019-12-07T12:12:24.990448Z"
    }
   },
   "outputs": [],
   "source": [
    "df_train['orderid'] = df_train['orderid'] + 1000000"
   ]
  },
  {
   "cell_type": "code",
   "execution_count": 6,
   "metadata": {
    "ExecuteTime": {
     "end_time": "2019-12-07T12:12:25.432459Z",
     "start_time": "2019-12-07T12:12:25.202444Z"
    }
   },
   "outputs": [],
   "source": [
    "df_train = df_train.set_index('orderid')\n",
    "df_test = df_test.set_index('orderid')"
   ]
  },
  {
   "cell_type": "code",
   "execution_count": 7,
   "metadata": {
    "ExecuteTime": {
     "end_time": "2019-12-07T12:12:26.185459Z",
     "start_time": "2019-12-07T12:12:25.640444Z"
    }
   },
   "outputs": [],
   "source": [
    "data = pd.concat([df_train, df_test], axis=0, sort=False )\n",
    "data.fillna(-1,inplace=True)"
   ]
  },
  {
   "cell_type": "code",
   "execution_count": 8,
   "metadata": {
    "ExecuteTime": {
     "end_time": "2019-12-07T12:12:26.606459Z",
     "start_time": "2019-12-07T12:12:26.583448Z"
    }
   },
   "outputs": [
    {
     "data": {
      "text/html": [
       "<div>\n",
       "<style scoped>\n",
       "    .dataframe tbody tr th:only-of-type {\n",
       "        vertical-align: middle;\n",
       "    }\n",
       "\n",
       "    .dataframe tbody tr th {\n",
       "        vertical-align: top;\n",
       "    }\n",
       "\n",
       "    .dataframe thead th {\n",
       "        text-align: right;\n",
       "    }\n",
       "</style>\n",
       "<table border=\"1\" class=\"dataframe\">\n",
       "  <thead>\n",
       "    <tr style=\"text-align: right;\">\n",
       "      <th></th>\n",
       "      <th>userid</th>\n",
       "      <th>field0</th>\n",
       "      <th>field1</th>\n",
       "      <th>field2</th>\n",
       "      <th>field3</th>\n",
       "      <th>field4</th>\n",
       "      <th>field5</th>\n",
       "      <th>field6</th>\n",
       "      <th>field7</th>\n",
       "      <th>field8</th>\n",
       "      <th>...</th>\n",
       "      <th>indicator_goal22</th>\n",
       "      <th>indicator_goal23</th>\n",
       "      <th>indicator_goal24</th>\n",
       "      <th>indicator_goal25</th>\n",
       "      <th>goal21</th>\n",
       "      <th>goal22</th>\n",
       "      <th>goal23</th>\n",
       "      <th>goal24</th>\n",
       "      <th>goal25</th>\n",
       "      <th>goal1</th>\n",
       "    </tr>\n",
       "    <tr>\n",
       "      <th>orderid</th>\n",
       "      <th></th>\n",
       "      <th></th>\n",
       "      <th></th>\n",
       "      <th></th>\n",
       "      <th></th>\n",
       "      <th></th>\n",
       "      <th></th>\n",
       "      <th></th>\n",
       "      <th></th>\n",
       "      <th></th>\n",
       "      <th></th>\n",
       "      <th></th>\n",
       "      <th></th>\n",
       "      <th></th>\n",
       "      <th></th>\n",
       "      <th></th>\n",
       "      <th></th>\n",
       "      <th></th>\n",
       "      <th></th>\n",
       "      <th></th>\n",
       "      <th></th>\n",
       "    </tr>\n",
       "  </thead>\n",
       "  <tbody>\n",
       "    <tr>\n",
       "      <th>1000000</th>\n",
       "      <td>10d654494cbe97bbb25d51ead2600679aff9e097924add...</td>\n",
       "      <td>0</td>\n",
       "      <td>-0.626508119430350</td>\n",
       "      <td>11</td>\n",
       "      <td>12</td>\n",
       "      <td>1</td>\n",
       "      <td>1</td>\n",
       "      <td>0</td>\n",
       "      <td>1</td>\n",
       "      <td>1</td>\n",
       "      <td>...</td>\n",
       "      <td>1</td>\n",
       "      <td>0</td>\n",
       "      <td>1</td>\n",
       "      <td>1</td>\n",
       "      <td>0.0</td>\n",
       "      <td>1.0</td>\n",
       "      <td>0.0</td>\n",
       "      <td>0.0</td>\n",
       "      <td>0.0</td>\n",
       "      <td>0.0</td>\n",
       "    </tr>\n",
       "    <tr>\n",
       "      <th>1000001</th>\n",
       "      <td>4aafc0391f72bbcf60537aece62923baf9ce644b64ac36...</td>\n",
       "      <td>144</td>\n",
       "      <td>-0.393794036775907</td>\n",
       "      <td>5</td>\n",
       "      <td>7</td>\n",
       "      <td>2</td>\n",
       "      <td>0</td>\n",
       "      <td>0</td>\n",
       "      <td>2</td>\n",
       "      <td>1</td>\n",
       "      <td>...</td>\n",
       "      <td>1</td>\n",
       "      <td>0</td>\n",
       "      <td>1</td>\n",
       "      <td>0</td>\n",
       "      <td>0.0</td>\n",
       "      <td>0.0</td>\n",
       "      <td>0.0</td>\n",
       "      <td>0.0</td>\n",
       "      <td>0.0</td>\n",
       "      <td>0.0</td>\n",
       "    </tr>\n",
       "    <tr>\n",
       "      <th>1000002</th>\n",
       "      <td>bac8ffef46348f587c8d17137ab01fb24aef21547c647d...</td>\n",
       "      <td>134</td>\n",
       "      <td>-0.548936758545536</td>\n",
       "      <td>2</td>\n",
       "      <td>3</td>\n",
       "      <td>2</td>\n",
       "      <td>0</td>\n",
       "      <td>0</td>\n",
       "      <td>1</td>\n",
       "      <td>1</td>\n",
       "      <td>...</td>\n",
       "      <td>1</td>\n",
       "      <td>0</td>\n",
       "      <td>1</td>\n",
       "      <td>1</td>\n",
       "      <td>0.0</td>\n",
       "      <td>0.0</td>\n",
       "      <td>0.0</td>\n",
       "      <td>0.0</td>\n",
       "      <td>0.0</td>\n",
       "      <td>0.0</td>\n",
       "    </tr>\n",
       "    <tr>\n",
       "      <th>1000003</th>\n",
       "      <td>0392247b4b87674aba2c32bf2292b105771a6a376871be...</td>\n",
       "      <td>0</td>\n",
       "      <td>-0.238651315006278</td>\n",
       "      <td>10</td>\n",
       "      <td>11</td>\n",
       "      <td>1</td>\n",
       "      <td>1</td>\n",
       "      <td>3</td>\n",
       "      <td>2</td>\n",
       "      <td>1</td>\n",
       "      <td>...</td>\n",
       "      <td>1</td>\n",
       "      <td>0</td>\n",
       "      <td>1</td>\n",
       "      <td>1</td>\n",
       "      <td>0.0</td>\n",
       "      <td>0.0</td>\n",
       "      <td>0.0</td>\n",
       "      <td>0.0</td>\n",
       "      <td>0.0</td>\n",
       "      <td>0.0</td>\n",
       "    </tr>\n",
       "    <tr>\n",
       "      <th>1000004</th>\n",
       "      <td>d1aeefef311bbeb4bd84876c8d49421f276674527d5578...</td>\n",
       "      <td>0</td>\n",
       "      <td>-0.704079480315165</td>\n",
       "      <td>8</td>\n",
       "      <td>11</td>\n",
       "      <td>1</td>\n",
       "      <td>1</td>\n",
       "      <td>0</td>\n",
       "      <td>1</td>\n",
       "      <td>1</td>\n",
       "      <td>...</td>\n",
       "      <td>1</td>\n",
       "      <td>0</td>\n",
       "      <td>0</td>\n",
       "      <td>1</td>\n",
       "      <td>0.0</td>\n",
       "      <td>0.0</td>\n",
       "      <td>0.0</td>\n",
       "      <td>0.0</td>\n",
       "      <td>0.0</td>\n",
       "      <td>0.0</td>\n",
       "    </tr>\n",
       "  </tbody>\n",
       "</table>\n",
       "<p>5 rows × 42 columns</p>\n",
       "</div>"
      ],
      "text/plain": [
       "                                                    userid  field0  \\\n",
       "orderid                                                              \n",
       "1000000  10d654494cbe97bbb25d51ead2600679aff9e097924add...       0   \n",
       "1000001  4aafc0391f72bbcf60537aece62923baf9ce644b64ac36...     144   \n",
       "1000002  bac8ffef46348f587c8d17137ab01fb24aef21547c647d...     134   \n",
       "1000003  0392247b4b87674aba2c32bf2292b105771a6a376871be...       0   \n",
       "1000004  d1aeefef311bbeb4bd84876c8d49421f276674527d5578...       0   \n",
       "\n",
       "                    field1  field2  field3  field4  field5  field6  field7  \\\n",
       "orderid                                                                      \n",
       "1000000 -0.626508119430350      11      12       1       1       0       1   \n",
       "1000001 -0.393794036775907       5       7       2       0       0       2   \n",
       "1000002 -0.548936758545536       2       3       2       0       0       1   \n",
       "1000003 -0.238651315006278      10      11       1       1       3       2   \n",
       "1000004 -0.704079480315165       8      11       1       1       0       1   \n",
       "\n",
       "         field8  ...  indicator_goal22  indicator_goal23  indicator_goal24  \\\n",
       "orderid          ...                                                         \n",
       "1000000       1  ...                 1                 0                 1   \n",
       "1000001       1  ...                 1                 0                 1   \n",
       "1000002       1  ...                 1                 0                 1   \n",
       "1000003       1  ...                 1                 0                 1   \n",
       "1000004       1  ...                 1                 0                 0   \n",
       "\n",
       "         indicator_goal25  goal21  goal22  goal23  goal24  goal25  goal1  \n",
       "orderid                                                                   \n",
       "1000000                 1     0.0     1.0     0.0     0.0     0.0    0.0  \n",
       "1000001                 0     0.0     0.0     0.0     0.0     0.0    0.0  \n",
       "1000002                 1     0.0     0.0     0.0     0.0     0.0    0.0  \n",
       "1000003                 1     0.0     0.0     0.0     0.0     0.0    0.0  \n",
       "1000004                 1     0.0     0.0     0.0     0.0     0.0    0.0  \n",
       "\n",
       "[5 rows x 42 columns]"
      ]
     },
     "execution_count": 8,
     "metadata": {},
     "output_type": "execute_result"
    }
   ],
   "source": [
    "data.head()"
   ]
  },
  {
   "cell_type": "code",
   "execution_count": 9,
   "metadata": {
    "ExecuteTime": {
     "end_time": "2019-12-07T12:12:26.996456Z",
     "start_time": "2019-12-07T12:12:26.991444Z"
    }
   },
   "outputs": [
    {
     "data": {
      "text/plain": [
       "Index(['userid', 'field0', 'field1', 'field2', 'field3', 'field4', 'field5',\n",
       "       'field6', 'field7', 'field8', 'field9', 'field10', 'field11', 'field12',\n",
       "       'field13', 'field14', 'field15', 'field16', 'field17', 'field18',\n",
       "       'field19', 'field20', 'field21', 'field22', 'field23', 'field24',\n",
       "       'field25', 'field26', 'field27', 'field28', 'field29',\n",
       "       'indicator_goal21', 'indicator_goal22', 'indicator_goal23',\n",
       "       'indicator_goal24', 'indicator_goal25', 'goal21', 'goal22', 'goal23',\n",
       "       'goal24', 'goal25', 'goal1'],\n",
       "      dtype='object')"
      ]
     },
     "execution_count": 9,
     "metadata": {},
     "output_type": "execute_result"
    }
   ],
   "source": [
    "data.columns"
   ]
  },
  {
   "cell_type": "markdown",
   "metadata": {},
   "source": [
    "# Feature engineering"
   ]
  },
  {
   "cell_type": "code",
   "execution_count": 46,
   "metadata": {
    "ExecuteTime": {
     "end_time": "2019-12-04T20:41:58.407118Z",
     "start_time": "2019-12-04T20:41:58.404103Z"
    }
   },
   "outputs": [],
   "source": [
    "new_features=[]"
   ]
  },
  {
   "cell_type": "code",
   "execution_count": 10,
   "metadata": {
    "ExecuteTime": {
     "end_time": "2019-12-07T12:12:30.674774Z",
     "start_time": "2019-12-07T12:12:30.663762Z"
    }
   },
   "outputs": [],
   "source": [
    "data['paid_tickets'] = data.field15 - data.field9"
   ]
  },
  {
   "cell_type": "code",
   "execution_count": 47,
   "metadata": {
    "ExecuteTime": {
     "end_time": "2019-12-04T20:42:00.946103Z",
     "start_time": "2019-12-04T20:42:00.929102Z"
    }
   },
   "outputs": [],
   "source": [
    "price_field = 'field1'\n",
    "price2_field = 'field14'\n",
    "data['price1'] = data[price_field]  /0.077571\n",
    "data['price2'] = data[price2_field]  /0.140066"
   ]
  },
  {
   "cell_type": "code",
   "execution_count": 48,
   "metadata": {
    "ExecuteTime": {
     "end_time": "2019-12-04T20:42:03.689117Z",
     "start_time": "2019-12-04T20:42:03.678117Z"
    }
   },
   "outputs": [],
   "source": [
    "data['multiplied_price2'] = data['price2']*data['field15']\n",
    "new_features.append('multiplied_price2')"
   ]
  },
  {
   "cell_type": "code",
   "execution_count": 49,
   "metadata": {
    "ExecuteTime": {
     "end_time": "2019-12-04T20:42:06.434189Z",
     "start_time": "2019-12-04T20:42:06.419102Z"
    }
   },
   "outputs": [],
   "source": [
    "data['price1_to_multiplied_price2'] = data['price1'] / (data['price2']*data['field15'])\n",
    "new_features.append('price1_to_multiplied_price2')"
   ]
  },
  {
   "cell_type": "code",
   "execution_count": 50,
   "metadata": {
    "ExecuteTime": {
     "end_time": "2019-12-04T20:42:16.480881Z",
     "start_time": "2019-12-04T20:42:16.476885Z"
    }
   },
   "outputs": [
    {
     "data": {
      "text/plain": [
       "Int64Index([1000000, 1000001, 1000002, 1000003, 1000004, 1000005, 1000006,\n",
       "            1000007, 1000008, 1000009,\n",
       "            ...\n",
       "             455001,  455002,  455003,  455004,  455005,  455006,  455007,\n",
       "             455008,  455009,  455010],\n",
       "           dtype='int64', name='orderid', length=651067)"
      ]
     },
     "execution_count": 50,
     "metadata": {},
     "output_type": "execute_result"
    }
   ],
   "source": [
    "data.index"
   ]
  },
  {
   "cell_type": "code",
   "execution_count": 65,
   "metadata": {
    "ExecuteTime": {
     "end_time": "2019-12-04T20:46:23.309601Z",
     "start_time": "2019-12-04T20:46:20.601615Z"
    },
    "scrolled": true
   },
   "outputs": [],
   "source": [
    "data = pd.merge(data.reset_index(), data.groupby('userid')['field0'].agg(['count']), on='userid', how='left').set_index('orderid')\n",
    "new_features.append('count')"
   ]
  },
  {
   "cell_type": "code",
   "execution_count": 55,
   "metadata": {
    "ExecuteTime": {
     "end_time": "2019-12-04T20:45:08.527019Z",
     "start_time": "2019-12-04T20:45:02.618019Z"
    }
   },
   "outputs": [],
   "source": [
    "data = pd.merge(data.reset_index(), data.groupby('userid')['price1'].agg(['mean','std']), on='userid').rename(columns={'mean':'price1_to_userid_mean','std':'price1_to_userid_std'})\n",
    "data = pd.merge(data, data.groupby('userid')['price2'].agg(['mean','std']), on='userid').rename(columns={'mean':'price2_to_userid_mean','std':'price2_to_userid_std'})\n",
    "data=data.set_index('orderid')"
   ]
  },
  {
   "cell_type": "code",
   "execution_count": 58,
   "metadata": {
    "ExecuteTime": {
     "end_time": "2019-12-04T20:45:35.166920Z",
     "start_time": "2019-12-04T20:45:35.156920Z"
    }
   },
   "outputs": [],
   "source": [
    "data['field2_diff_field3'] = data['field2']-data['field3']\n",
    "new_features.append('field2_diff_field3')"
   ]
  },
  {
   "cell_type": "code",
   "execution_count": 68,
   "metadata": {
    "ExecuteTime": {
     "end_time": "2019-12-04T20:46:33.960807Z",
     "start_time": "2019-12-04T20:46:33.957804Z"
    }
   },
   "outputs": [],
   "source": [
    "new_features = ['multiplied_price2',\n",
    " 'price1_to_multiplied_price2',\n",
    " 'count',\n",
    " 'field2_diff_field3',\n",
    "               'price1_to_userid_mean',\n",
    "               'price1_to_userid_std',\n",
    "               'price2_to_userid_mean',\n",
    "               'price2_to_userid_std']"
   ]
  },
  {
   "cell_type": "code",
   "execution_count": 69,
   "metadata": {
    "ExecuteTime": {
     "end_time": "2019-12-04T20:46:36.378804Z",
     "start_time": "2019-12-04T20:46:36.375802Z"
    }
   },
   "outputs": [
    {
     "data": {
      "text/plain": [
       "['multiplied_price2',\n",
       " 'price1_to_multiplied_price2',\n",
       " 'count',\n",
       " 'field2_diff_field3',\n",
       " 'price1_to_userid_mean',\n",
       " 'price1_to_userid_std',\n",
       " 'price2_to_userid_mean',\n",
       " 'price2_to_userid_std']"
      ]
     },
     "execution_count": 69,
     "metadata": {},
     "output_type": "execute_result"
    }
   ],
   "source": [
    "new_features"
   ]
  },
  {
   "cell_type": "markdown",
   "metadata": {},
   "source": [
    "# Training"
   ]
  },
  {
   "cell_type": "code",
   "execution_count": 70,
   "metadata": {
    "ExecuteTime": {
     "end_time": "2019-12-04T20:46:39.142817Z",
     "start_time": "2019-12-04T20:46:38.861807Z"
    }
   },
   "outputs": [],
   "source": [
    "X = data[data['goal1']>=0].drop(['goal1'], axis=1)\n",
    "y = data[data['goal1']>=0]['goal1']\n",
    "all_features = [f'field{i}' for i in range(30)] + new_features\n",
    "test=data[data['goal1']<0]"
   ]
  },
  {
   "cell_type": "code",
   "execution_count": 71,
   "metadata": {
    "ExecuteTime": {
     "end_time": "2019-12-04T20:46:41.590803Z",
     "start_time": "2019-12-04T20:46:41.586802Z"
    }
   },
   "outputs": [],
   "source": [
    "from sklearn.model_selection import GroupKFold, KFold\n",
    "\n",
    "NFOLDS = 5\n",
    "folds = GroupKFold(n_splits=NFOLDS)\n",
    "params = {\n",
    "          'objective': 'binary',\n",
    "          \"metric\": 'auc',\n",
    "          \"verbosity\": -1,\n",
    "         }\n",
    "train_options = {\n",
    "        \"model_type\":'lgb',\n",
    "        \"params\": params,\n",
    "        \"eval_metric\":'auc',\n",
    "        'early_stopping_rounds': 100,\n",
    "        'n_estimators': 500,\n",
    "        'averaging': 'rank',\n",
    "        'use_groups': False,\n",
    "        'fold_name': folds.__class__.__name__,\n",
    "        'n_splits': NFOLDS\n",
    "    }"
   ]
  },
  {
   "cell_type": "code",
   "execution_count": 72,
   "metadata": {
    "ExecuteTime": {
     "end_time": "2019-12-04T20:47:40.420044Z",
     "start_time": "2019-12-04T20:46:43.991804Z"
    }
   },
   "outputs": [
    {
     "name": "stdout",
     "output_type": "stream",
     "text": [
      "Fold 1 started at Wed Dec  4 23:46:44 2019\n",
      "Training until validation scores don't improve for 100 rounds.\n",
      "[100]\ttraining's auc: 0.853857\ttraining's auc: 0.853857\tvalid_1's auc: 0.660577\tvalid_1's auc: 0.660577\n",
      "Early stopping, best iteration is:\n",
      "[26]\ttraining's auc: 0.762285\ttraining's auc: 0.762285\tvalid_1's auc: 0.669684\tvalid_1's auc: 0.669684\n",
      "Fold 2 started at Wed Dec  4 23:46:54 2019\n",
      "Training until validation scores don't improve for 100 rounds.\n",
      "[100]\ttraining's auc: 0.853638\ttraining's auc: 0.853638\tvalid_1's auc: 0.700316\tvalid_1's auc: 0.700316\n",
      "Early stopping, best iteration is:\n",
      "[37]\ttraining's auc: 0.777797\ttraining's auc: 0.777797\tvalid_1's auc: 0.714242\tvalid_1's auc: 0.714241\n",
      "Fold 3 started at Wed Dec  4 23:47:04 2019\n",
      "Training until validation scores don't improve for 100 rounds.\n",
      "[100]\ttraining's auc: 0.853335\ttraining's auc: 0.853335\tvalid_1's auc: 0.686553\tvalid_1's auc: 0.686553\n",
      "Early stopping, best iteration is:\n",
      "[98]\ttraining's auc: 0.849861\ttraining's auc: 0.849861\tvalid_1's auc: 0.687438\tvalid_1's auc: 0.687438\n",
      "Fold 4 started at Wed Dec  4 23:47:18 2019\n",
      "Training until validation scores don't improve for 100 rounds.\n",
      "[100]\ttraining's auc: 0.855068\ttraining's auc: 0.855068\tvalid_1's auc: 0.657921\tvalid_1's auc: 0.65792\n",
      "Early stopping, best iteration is:\n",
      "[38]\ttraining's auc: 0.785653\ttraining's auc: 0.785653\tvalid_1's auc: 0.670651\tvalid_1's auc: 0.670651\n",
      "Fold 5 started at Wed Dec  4 23:47:28 2019\n",
      "Training until validation scores don't improve for 100 rounds.\n",
      "[100]\ttraining's auc: 0.862189\ttraining's auc: 0.862189\tvalid_1's auc: 0.662475\tvalid_1's auc: 0.662475\n",
      "Early stopping, best iteration is:\n",
      "[37]\ttraining's auc: 0.78624\ttraining's auc: 0.786239\tvalid_1's auc: 0.669723\tvalid_1's auc: 0.669721\n",
      "CV mean score: 0.6823, std: 0.0173.\n"
     ]
    },
    {
     "data": {
      "image/png": "[encoded data removed]",
      "text/plain": [
       "<Figure size 1152x864 with 1 Axes>"
      ]
     },
     "metadata": {
      "needs_background": "light"
     },
     "output_type": "display_data"
    }
   ],
   "source": [
    "result_dict = train_model_classification_vb( X=X, \n",
    "                                             X_test=test, \n",
    "                                             columns=all_features,\n",
    "                                             y=y, \n",
    "                                             params=params, folds=folds,\n",
    "                                             model_type=train_options['model_type'], \n",
    "                                             plot_feature_importance=True,\n",
    "                                             verbose=100, early_stopping_rounds=train_options['early_stopping_rounds'],\n",
    "                                             n_estimators=train_options['n_estimators'], \n",
    "                                             averaging=train_options['averaging'],\n",
    "                                             groups=X['userid'],\n",
    "                                             n_jobs=-1)"
   ]
  },
  {
   "cell_type": "code",
   "execution_count": null,
   "metadata": {
    "ExecuteTime": {
     "end_time": "2019-12-04T20:19:53.123653Z",
     "start_time": "2019-12-04T20:19:04.248289Z"
    }
   },
   "outputs": [],
   "source": [
    "result_dict = train_model_classification_vb( X=X, \n",
    "                                             X_test=test, \n",
    "                                             columns=all_features,\n",
    "                                             y=y, \n",
    "                                             params=params, folds=folds,\n",
    "                                             model_type=train_options['model_type'], \n",
    "                                             plot_feature_importance=True,\n",
    "                                             verbose=100, early_stopping_rounds=train_options['early_stopping_rounds'],\n",
    "                                             n_estimators=train_options['n_estimators'], \n",
    "                                             averaging=train_options['averaging'],\n",
    "                                             groups=X['userid'],\n",
    "                                             n_jobs=-1)"
   ]
  },
  {
   "cell_type": "code",
   "execution_count": null,
   "metadata": {
    "ExecuteTime": {
     "end_time": "2019-12-04T20:17:07.340051Z",
     "start_time": "2019-12-04T20:16:16.000417Z"
    }
   },
   "outputs": [],
   "source": [
    "result_dict = train_model_classification_vb( X=X, \n",
    "                                             X_test=test, \n",
    "                                             columns=all_features,\n",
    "                                             y=y, \n",
    "                                             params=params, folds=folds,\n",
    "                                             model_type=train_options['model_type'], \n",
    "                                             plot_feature_importance=True,\n",
    "                                             verbose=100, early_stopping_rounds=train_options['early_stopping_rounds'],\n",
    "                                             n_estimators=train_options['n_estimators'], \n",
    "                                             averaging=train_options['averaging'],\n",
    "                                             groups=X['userid'],\n",
    "                                             n_jobs=-1)"
   ]
  },
  {
   "cell_type": "code",
   "execution_count": null,
   "metadata": {},
   "outputs": [],
   "source": [
    "result_dict = train_model_classification_vb( X=X, \n",
    "                                             X_test=test, \n",
    "                                             columns=all_features,\n",
    "                                             y=y, \n",
    "                                             params=params, folds=folds,\n",
    "                                             model_type=train_options['model_type'], \n",
    "                                             plot_feature_importance=True,\n",
    "                                             verbose=100, early_stopping_rounds=train_options['early_stopping_rounds'],\n",
    "                                             n_estimators=train_options['n_estimators'], \n",
    "                                             averaging=train_options['averaging'],\n",
    "                                             n_jobs=-1)"
   ]
  },
  {
   "cell_type": "code",
   "execution_count": null,
   "metadata": {},
   "outputs": [],
   "source": [
    "result_dict = train_model_classification_vb( X=X, \n",
    "                                             X_test=test, \n",
    "                                             columns=all_features,\n",
    "                                             y=y, \n",
    "                                             params=params, folds=folds,\n",
    "                                             model_type=train_options['model_type'], \n",
    "                                             plot_feature_importance=True,\n",
    "                                             verbose=100, early_stopping_rounds=train_options['early_stopping_rounds'],\n",
    "                                             n_estimators=train_options['n_estimators'], \n",
    "                                             averaging=train_options['averaging'],\n",
    "                                             n_jobs=-1)"
   ]
  },
  {
   "cell_type": "code",
   "execution_count": 36,
   "metadata": {
    "ExecuteTime": {
     "end_time": "2019-12-04T20:41:01.658806Z",
     "start_time": "2019-12-04T20:41:01.301808Z"
    },
    "scrolled": true
   },
   "outputs": [
    {
     "data": {
      "text/plain": [
       "<matplotlib.axes._subplots.AxesSubplot at 0x28c96634fd0>"
      ]
     },
     "execution_count": 36,
     "metadata": {},
     "output_type": "execute_result"
    },
    {
     "data": {
      "image/png": "[encoded data removed]",
      "text/plain": [
       "<Figure size 432x288 with 1 Axes>"
      ]
     },
     "metadata": {
      "needs_background": "light"
     },
     "output_type": "display_data"
    }
   ],
   "source": [
    "data.goal1.plot()"
   ]
  },
  {
   "cell_type": "code",
   "execution_count": 73,
   "metadata": {
    "ExecuteTime": {
     "end_time": "2019-12-04T20:47:50.352999Z",
     "start_time": "2019-12-04T20:47:50.346999Z"
    }
   },
   "outputs": [],
   "source": [
    "test['proba'] = result_dict['prediction']"
   ]
  },
  {
   "cell_type": "code",
   "execution_count": 74,
   "metadata": {
    "ExecuteTime": {
     "end_time": "2019-12-04T20:47:52.979044Z",
     "start_time": "2019-12-04T20:47:52.865030Z"
    }
   },
   "outputs": [],
   "source": [
    "sub = pd.read_csv('data/onetwotrip_challenge_sub1.csv')"
   ]
  },
  {
   "cell_type": "code",
   "execution_count": 75,
   "metadata": {
    "ExecuteTime": {
     "end_time": "2019-12-04T20:47:55.518045Z",
     "start_time": "2019-12-04T20:47:55.464034Z"
    }
   },
   "outputs": [],
   "source": [
    "sub['proba'] = test['proba'] / test['proba'].max()"
   ]
  },
  {
   "cell_type": "code",
   "execution_count": 76,
   "metadata": {
    "ExecuteTime": {
     "end_time": "2019-12-04T20:47:58.030041Z",
     "start_time": "2019-12-04T20:47:58.019030Z"
    },
    "scrolled": true
   },
   "outputs": [
    {
     "data": {
      "text/html": [
       "<div>\n",
       "<style scoped>\n",
       "    .dataframe tbody tr th:only-of-type {\n",
       "        vertical-align: middle;\n",
       "    }\n",
       "\n",
       "    .dataframe tbody tr th {\n",
       "        vertical-align: top;\n",
       "    }\n",
       "\n",
       "    .dataframe thead th {\n",
       "        text-align: right;\n",
       "    }\n",
       "</style>\n",
       "<table border=\"1\" class=\"dataframe\">\n",
       "  <thead>\n",
       "    <tr style=\"text-align: right;\">\n",
       "      <th></th>\n",
       "      <th>orderid</th>\n",
       "      <th>proba</th>\n",
       "    </tr>\n",
       "  </thead>\n",
       "  <tbody>\n",
       "    <tr>\n",
       "      <th>0</th>\n",
       "      <td>0</td>\n",
       "      <td>0.157876782034864</td>\n",
       "    </tr>\n",
       "    <tr>\n",
       "      <th>1</th>\n",
       "      <td>1</td>\n",
       "      <td>0.157880298955870</td>\n",
       "    </tr>\n",
       "    <tr>\n",
       "      <th>2</th>\n",
       "      <td>2</td>\n",
       "      <td>0.826992544567082</td>\n",
       "    </tr>\n",
       "    <tr>\n",
       "      <th>3</th>\n",
       "      <td>3</td>\n",
       "      <td>0.753149952279778</td>\n",
       "    </tr>\n",
       "    <tr>\n",
       "      <th>4</th>\n",
       "      <td>4</td>\n",
       "      <td>0.040589224945345</td>\n",
       "    </tr>\n",
       "    <tr>\n",
       "      <th>5</th>\n",
       "      <td>5</td>\n",
       "      <td>0.248116139282381</td>\n",
       "    </tr>\n",
       "    <tr>\n",
       "      <th>6</th>\n",
       "      <td>6</td>\n",
       "      <td>0.418700436142166</td>\n",
       "    </tr>\n",
       "    <tr>\n",
       "      <th>7</th>\n",
       "      <td>7</td>\n",
       "      <td>0.345720588539146</td>\n",
       "    </tr>\n",
       "    <tr>\n",
       "      <th>8</th>\n",
       "      <td>8</td>\n",
       "      <td>0.720057264266280</td>\n",
       "    </tr>\n",
       "    <tr>\n",
       "      <th>9</th>\n",
       "      <td>9</td>\n",
       "      <td>0.372909685028951</td>\n",
       "    </tr>\n",
       "    <tr>\n",
       "      <th>10</th>\n",
       "      <td>10</td>\n",
       "      <td>0.826171783127308</td>\n",
       "    </tr>\n",
       "    <tr>\n",
       "      <th>11</th>\n",
       "      <td>11</td>\n",
       "      <td>0.726993731527922</td>\n",
       "    </tr>\n",
       "    <tr>\n",
       "      <th>12</th>\n",
       "      <td>12</td>\n",
       "      <td>0.528583995283809</td>\n",
       "    </tr>\n",
       "    <tr>\n",
       "      <th>13</th>\n",
       "      <td>13</td>\n",
       "      <td>0.839432773395548</td>\n",
       "    </tr>\n",
       "    <tr>\n",
       "      <th>14</th>\n",
       "      <td>14</td>\n",
       "      <td>0.571781236962664</td>\n",
       "    </tr>\n",
       "    <tr>\n",
       "      <th>15</th>\n",
       "      <td>15</td>\n",
       "      <td>0.232203610383182</td>\n",
       "    </tr>\n",
       "    <tr>\n",
       "      <th>16</th>\n",
       "      <td>16</td>\n",
       "      <td>0.752575375310423</td>\n",
       "    </tr>\n",
       "    <tr>\n",
       "      <th>17</th>\n",
       "      <td>17</td>\n",
       "      <td>0.356816254505506</td>\n",
       "    </tr>\n",
       "    <tr>\n",
       "      <th>18</th>\n",
       "      <td>18</td>\n",
       "      <td>0.288695253079834</td>\n",
       "    </tr>\n",
       "    <tr>\n",
       "      <th>19</th>\n",
       "      <td>19</td>\n",
       "      <td>0.574814801137900</td>\n",
       "    </tr>\n",
       "    <tr>\n",
       "      <th>20</th>\n",
       "      <td>20</td>\n",
       "      <td>0.493410828687700</td>\n",
       "    </tr>\n",
       "    <tr>\n",
       "      <th>21</th>\n",
       "      <td>21</td>\n",
       "      <td>0.278881944435286</td>\n",
       "    </tr>\n",
       "    <tr>\n",
       "      <th>22</th>\n",
       "      <td>22</td>\n",
       "      <td>0.870171102603093</td>\n",
       "    </tr>\n",
       "    <tr>\n",
       "      <th>23</th>\n",
       "      <td>23</td>\n",
       "      <td>0.175758347082296</td>\n",
       "    </tr>\n",
       "    <tr>\n",
       "      <th>24</th>\n",
       "      <td>24</td>\n",
       "      <td>0.801578833762618</td>\n",
       "    </tr>\n",
       "    <tr>\n",
       "      <th>25</th>\n",
       "      <td>25</td>\n",
       "      <td>0.578680556746180</td>\n",
       "    </tr>\n",
       "    <tr>\n",
       "      <th>26</th>\n",
       "      <td>26</td>\n",
       "      <td>0.693263161966961</td>\n",
       "    </tr>\n",
       "    <tr>\n",
       "      <th>27</th>\n",
       "      <td>27</td>\n",
       "      <td>0.577694060403997</td>\n",
       "    </tr>\n",
       "    <tr>\n",
       "      <th>28</th>\n",
       "      <td>28</td>\n",
       "      <td>0.206996298880256</td>\n",
       "    </tr>\n",
       "    <tr>\n",
       "      <th>29</th>\n",
       "      <td>29</td>\n",
       "      <td>0.419305346555198</td>\n",
       "    </tr>\n",
       "    <tr>\n",
       "      <th>...</th>\n",
       "      <td>...</td>\n",
       "      <td>...</td>\n",
       "    </tr>\n",
       "    <tr>\n",
       "      <th>454981</th>\n",
       "      <td>454981</td>\n",
       "      <td>0.280577100360177</td>\n",
       "    </tr>\n",
       "    <tr>\n",
       "      <th>454982</th>\n",
       "      <td>454982</td>\n",
       "      <td>0.274102668595698</td>\n",
       "    </tr>\n",
       "    <tr>\n",
       "      <th>454983</th>\n",
       "      <td>454983</td>\n",
       "      <td>0.936172719507525</td>\n",
       "    </tr>\n",
       "    <tr>\n",
       "      <th>454984</th>\n",
       "      <td>454984</td>\n",
       "      <td>0.517143011636173</td>\n",
       "    </tr>\n",
       "    <tr>\n",
       "      <th>454985</th>\n",
       "      <td>454985</td>\n",
       "      <td>0.533430971852762</td>\n",
       "    </tr>\n",
       "    <tr>\n",
       "      <th>454986</th>\n",
       "      <td>454986</td>\n",
       "      <td>0.788762953809199</td>\n",
       "    </tr>\n",
       "    <tr>\n",
       "      <th>454987</th>\n",
       "      <td>454987</td>\n",
       "      <td>0.765418291594075</td>\n",
       "    </tr>\n",
       "    <tr>\n",
       "      <th>454988</th>\n",
       "      <td>454988</td>\n",
       "      <td>0.625724650582908</td>\n",
       "    </tr>\n",
       "    <tr>\n",
       "      <th>454989</th>\n",
       "      <td>454989</td>\n",
       "      <td>0.533342389404924</td>\n",
       "    </tr>\n",
       "    <tr>\n",
       "      <th>454990</th>\n",
       "      <td>454990</td>\n",
       "      <td>0.782809905583859</td>\n",
       "    </tr>\n",
       "    <tr>\n",
       "      <th>454991</th>\n",
       "      <td>454991</td>\n",
       "      <td>0.284343942565163</td>\n",
       "    </tr>\n",
       "    <tr>\n",
       "      <th>454992</th>\n",
       "      <td>454992</td>\n",
       "      <td>0.381928389333706</td>\n",
       "    </tr>\n",
       "    <tr>\n",
       "      <th>454993</th>\n",
       "      <td>454993</td>\n",
       "      <td>0.265240687083272</td>\n",
       "    </tr>\n",
       "    <tr>\n",
       "      <th>454994</th>\n",
       "      <td>454994</td>\n",
       "      <td>0.650123949484705</td>\n",
       "    </tr>\n",
       "    <tr>\n",
       "      <th>454995</th>\n",
       "      <td>454995</td>\n",
       "      <td>0.590866248416836</td>\n",
       "    </tr>\n",
       "    <tr>\n",
       "      <th>454996</th>\n",
       "      <td>454996</td>\n",
       "      <td>0.202499255951400</td>\n",
       "    </tr>\n",
       "    <tr>\n",
       "      <th>454997</th>\n",
       "      <td>454997</td>\n",
       "      <td>0.696310354211095</td>\n",
       "    </tr>\n",
       "    <tr>\n",
       "      <th>454998</th>\n",
       "      <td>454998</td>\n",
       "      <td>0.793978767468657</td>\n",
       "    </tr>\n",
       "    <tr>\n",
       "      <th>454999</th>\n",
       "      <td>454999</td>\n",
       "      <td>0.210518275460200</td>\n",
       "    </tr>\n",
       "    <tr>\n",
       "      <th>455000</th>\n",
       "      <td>455000</td>\n",
       "      <td>0.813228414787422</td>\n",
       "    </tr>\n",
       "    <tr>\n",
       "      <th>455001</th>\n",
       "      <td>455001</td>\n",
       "      <td>0.907597956141357</td>\n",
       "    </tr>\n",
       "    <tr>\n",
       "      <th>455002</th>\n",
       "      <td>455002</td>\n",
       "      <td>0.889746284922476</td>\n",
       "    </tr>\n",
       "    <tr>\n",
       "      <th>455003</th>\n",
       "      <td>455003</td>\n",
       "      <td>0.182199807712344</td>\n",
       "    </tr>\n",
       "    <tr>\n",
       "      <th>455004</th>\n",
       "      <td>455004</td>\n",
       "      <td>0.244767371061983</td>\n",
       "    </tr>\n",
       "    <tr>\n",
       "      <th>455005</th>\n",
       "      <td>455005</td>\n",
       "      <td>0.084338843029704</td>\n",
       "    </tr>\n",
       "    <tr>\n",
       "      <th>455006</th>\n",
       "      <td>455006</td>\n",
       "      <td>0.897662214684288</td>\n",
       "    </tr>\n",
       "    <tr>\n",
       "      <th>455007</th>\n",
       "      <td>455007</td>\n",
       "      <td>0.619780174852520</td>\n",
       "    </tr>\n",
       "    <tr>\n",
       "      <th>455008</th>\n",
       "      <td>455008</td>\n",
       "      <td>0.395255102063246</td>\n",
       "    </tr>\n",
       "    <tr>\n",
       "      <th>455009</th>\n",
       "      <td>455009</td>\n",
       "      <td>0.910030346632130</td>\n",
       "    </tr>\n",
       "    <tr>\n",
       "      <th>455010</th>\n",
       "      <td>455010</td>\n",
       "      <td>0.419205334114090</td>\n",
       "    </tr>\n",
       "  </tbody>\n",
       "</table>\n",
       "<p>455011 rows × 2 columns</p>\n",
       "</div>"
      ],
      "text/plain": [
       "        orderid              proba\n",
       "0             0  0.157876782034864\n",
       "1             1  0.157880298955870\n",
       "2             2  0.826992544567082\n",
       "3             3  0.753149952279778\n",
       "4             4  0.040589224945345\n",
       "...         ...                ...\n",
       "455006   455006  0.897662214684288\n",
       "455007   455007  0.619780174852520\n",
       "455008   455008  0.395255102063246\n",
       "455009   455009  0.910030346632130\n",
       "455010   455010  0.419205334114090\n",
       "\n",
       "[455011 rows x 2 columns]"
      ]
     },
     "execution_count": 76,
     "metadata": {},
     "output_type": "execute_result"
    }
   ],
   "source": [
    "sub"
   ]
  },
  {
   "cell_type": "code",
   "execution_count": 77,
   "metadata": {
    "ExecuteTime": {
     "end_time": "2019-12-04T20:48:04.550545Z",
     "start_time": "2019-12-04T20:48:03.209993Z"
    }
   },
   "outputs": [],
   "source": [
    "sub.reset_index(drop=True).set_index('orderid').to_csv('submissions/0412_last.csv')"
   ]
  }
 ],
 "metadata": {
  "hide_input": false,
  "kernelspec": {
   "display_name": "Python 3",
   "language": "python",
   "name": "python3"
  },
  "language_info": {
   "codemirror_mode": {
    "name": "ipython",
    "version": 3
   },
   "file_extension": ".py",
   "mimetype": "text/x-python",
   "name": "python",
   "nbconvert_exporter": "python",
   "pygments_lexer": "ipython3",
   "version": "3.6.5"
  },
  "toc": {
   "base_numbering": 1,
   "nav_menu": {},
   "number_sections": true,
   "sideBar": true,
   "skip_h1_title": false,
   "title_cell": "Table of Contents",
   "title_sidebar": "Contents",
   "toc_cell": false,
   "toc_position": {},
   "toc_section_display": true,
   "toc_window_display": false
  },
  "varInspector": {
   "cols": {
    "lenName": 16,
    "lenType": 16,
    "lenVar": 40
   },
   "kernels_config": {
    "python": {
     "delete_cmd_postfix": "",
     "delete_cmd_prefix": "del ",
     "library": "var_list.py",
     "varRefreshCmd": "print(var_dic_list())"
    },
    "r": {
     "delete_cmd_postfix": ") ",
     "delete_cmd_prefix": "rm(",
     "library": "var_list.r",
     "varRefreshCmd": "cat(var_dic_list()) "
    }
   },
   "position": {
    "height": "509px",
    "left": "1548px",
    "right": "20px",
    "top": "120px",
    "width": "318px"
   },
   "types_to_exclude": [
    "module",
    "function",
    "builtin_function_or_method",
    "instance",
    "_Feature"
   ],
   "window_display": false
  }
 },
 "nbformat": 4,
 "nbformat_minor": 4
}
