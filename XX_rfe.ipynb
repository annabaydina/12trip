{
 "cells": [
  {
   "cell_type": "code",
   "execution_count": 1,
   "metadata": {
    "ExecuteTime": {
     "end_time": "2019-12-18T18:55:58.956853Z",
     "start_time": "2019-12-18T18:55:54.822855Z"
    }
   },
   "outputs": [],
   "source": [
    "import pandas as pd\n",
    "import pickle\n",
    "from BayDS.lib.training import *\n",
    "from sklearn.model_selection import GroupKFold, KFold"
   ]
  },
  {
   "cell_type": "code",
   "execution_count": 23,
   "metadata": {
    "ExecuteTime": {
     "end_time": "2019-12-18T19:04:35.099893Z",
     "start_time": "2019-12-18T19:04:32.410908Z"
    }
   },
   "outputs": [],
   "source": [
    "data = pd.read_pickle(\"temp/data.pkl\")"
   ]
  },
  {
   "cell_type": "code",
   "execution_count": 4,
   "metadata": {
    "ExecuteTime": {
     "end_time": "2019-12-18T18:57:45.213870Z",
     "start_time": "2019-12-18T18:57:45.209868Z"
    }
   },
   "outputs": [],
   "source": [
    "exclude_features_from_training = ['indicator_goal21', 'indicator_goal22', 'indicator_goal23',\n",
    "       'indicator_goal24', 'indicator_goal25', 'goal21', 'goal22', 'goal23',\n",
    "       'goal24', 'goal25', 'goal1','userid',]"
   ]
  },
  {
   "cell_type": "code",
   "execution_count": 30,
   "metadata": {
    "ExecuteTime": {
     "end_time": "2019-12-18T20:25:04.506604Z",
     "start_time": "2019-12-18T20:25:04.495604Z"
    }
   },
   "outputs": [],
   "source": [
    "from sklearn.feature_selection import RFECV\n",
    "from sklearn.model_selection import StratifiedKFold\n",
    "import lightgbm as lgb\n",
    "clf = lgb.LGBMClassifier(learning_rate=0.1, max_depth=20, num_leaves=50, n_estimators=200)\n",
    "\n",
    "rfecv = RFECV(estimator=clf, step=10, cv=StratifiedKFold(5),verbose=1,\n",
    "              scoring='roc_auc')"
   ]
  },
  {
   "cell_type": "code",
   "execution_count": 24,
   "metadata": {
    "ExecuteTime": {
     "end_time": "2019-12-18T19:04:41.526909Z",
     "start_time": "2019-12-18T19:04:36.076893Z"
    }
   },
   "outputs": [],
   "source": [
    "for col in data.columns:\n",
    "    if data[col].dtype in ['float64', 'float32']:\n",
    "        data[col] = data[col].replace([np.inf, -np.inf], np.nan)\n",
    "        data[col] = data[col].fillna(-999)"
   ]
  },
  {
   "cell_type": "code",
   "execution_count": 25,
   "metadata": {
    "ExecuteTime": {
     "end_time": "2019-12-18T19:04:45.071908Z",
     "start_time": "2019-12-18T19:04:42.475892Z"
    }
   },
   "outputs": [],
   "source": [
    "X = data[data['goal1']>=0].drop(exclude_features_from_training +['goal1'], axis=1)\n",
    "y = data[data['goal1']>=0]['goal1']\n",
    "test=data[data['goal1']<0]\n",
    "train_features = [f for f in data.columns if f not in exclude_features_from_training]"
   ]
  },
  {
   "cell_type": "code",
   "execution_count": null,
   "metadata": {
    "ExecuteTime": {
     "start_time": "2019-12-19T04:53:33.518Z"
    }
   },
   "outputs": [
    {
     "name": "stdout",
     "output_type": "stream",
     "text": [
      "Fitting estimator with 646 features.\n",
      "Fitting estimator with 636 features.\n",
      "Fitting estimator with 626 features.\n",
      "Fitting estimator with 616 features.\n",
      "Fitting estimator with 606 features.\n",
      "Fitting estimator with 596 features.\n",
      "Fitting estimator with 586 features.\n",
      "Fitting estimator with 576 features.\n",
      "Fitting estimator with 566 features.\n",
      "Fitting estimator with 556 features.\n",
      "Fitting estimator with 546 features.\n",
      "Fitting estimator with 536 features.\n",
      "Fitting estimator with 526 features.\n",
      "Fitting estimator with 516 features.\n",
      "Fitting estimator with 506 features.\n",
      "Fitting estimator with 496 features.\n",
      "Fitting estimator with 486 features.\n",
      "Fitting estimator with 476 features.\n"
     ]
    }
   ],
   "source": [
    "rfecv.fit(X, y)"
   ]
  },
  {
   "cell_type": "code",
   "execution_count": null,
   "metadata": {},
   "outputs": [],
   "source": []
  },
  {
   "cell_type": "code",
   "execution_count": null,
   "metadata": {},
   "outputs": [],
   "source": []
  },
  {
   "cell_type": "code",
   "execution_count": null,
   "metadata": {},
   "outputs": [],
   "source": []
  },
  {
   "cell_type": "code",
   "execution_count": null,
   "metadata": {},
   "outputs": [],
   "source": []
  },
  {
   "cell_type": "code",
   "execution_count": null,
   "metadata": {},
   "outputs": [],
   "source": []
  },
  {
   "cell_type": "code",
   "execution_count": null,
   "metadata": {},
   "outputs": [],
   "source": []
  },
  {
   "cell_type": "code",
   "execution_count": null,
   "metadata": {},
   "outputs": [],
   "source": []
  },
  {
   "cell_type": "code",
   "execution_count": 10,
   "metadata": {
    "ExecuteTime": {
     "end_time": "2019-12-17T14:18:06.310676Z",
     "start_time": "2019-12-17T14:18:06.306196Z"
    }
   },
   "outputs": [],
   "source": [
    "results = {}"
   ]
  },
  {
   "cell_type": "code",
   "execution_count": null,
   "metadata": {
    "ExecuteTime": {
     "start_time": "2019-12-17T14:27:03.893Z"
    }
   },
   "outputs": [
    {
     "name": "stdout",
     "output_type": "stream",
     "text": [
      "**********\n",
      " Max_depth=2\n",
      "\n",
      "Fold 1 started at Tue Dec 17 17:27:09 2019\n",
      "Training until validation scores don't improve for 100 rounds\n",
      "[100]\ttraining's auc: 0.732959\ttraining's auc: 0.732959\tvalid_1's auc: 0.676344\tvalid_1's auc: 0.676344\n",
      "[200]\ttraining's auc: 0.75345\ttraining's auc: 0.75345\tvalid_1's auc: 0.673913\tvalid_1's auc: 0.673913\n",
      "Early stopping, best iteration is:\n",
      "[114]\ttraining's auc: 0.736893\ttraining's auc: 0.736893\tvalid_1's auc: 0.67697\tvalid_1's auc: 0.67697\n",
      "Fold 2 started at Tue Dec 17 17:28:03 2019\n",
      "Training until validation scores don't improve for 100 rounds\n",
      "[100]\ttraining's auc: 0.721551\ttraining's auc: 0.721551\tvalid_1's auc: 0.718717\tvalid_1's auc: 0.718718\n",
      "[200]\ttraining's auc: 0.743946\ttraining's auc: 0.743946\tvalid_1's auc: 0.719524\tvalid_1's auc: 0.719524\n",
      "[300]\ttraining's auc: 0.75951\ttraining's auc: 0.75951\tvalid_1's auc: 0.719195\tvalid_1's auc: 0.719195\n",
      "Early stopping, best iteration is:\n",
      "[227]\ttraining's auc: 0.748058\ttraining's auc: 0.748058\tvalid_1's auc: 0.721479\tvalid_1's auc: 0.721479\n",
      "Fold 3 started at Tue Dec 17 17:29:06 2019\n",
      "Training until validation scores don't improve for 100 rounds\n",
      "[100]\ttraining's auc: 0.725949\ttraining's auc: 0.725949\tvalid_1's auc: 0.698977\tvalid_1's auc: 0.698976\n",
      "[200]\ttraining's auc: 0.747994\ttraining's auc: 0.747994\tvalid_1's auc: 0.701088\tvalid_1's auc: 0.701088\n",
      "[300]\ttraining's auc: 0.762141\ttraining's auc: 0.762141\tvalid_1's auc: 0.701709\tvalid_1's auc: 0.701709\n",
      "[400]\ttraining's auc: 0.773939\ttraining's auc: 0.773939\tvalid_1's auc: 0.701857\tvalid_1's auc: 0.701857\n",
      "Early stopping, best iteration is:\n",
      "[359]\ttraining's auc: 0.769781\ttraining's auc: 0.769781\tvalid_1's auc: 0.702661\tvalid_1's auc: 0.702661\n",
      "Fold 4 started at Tue Dec 17 17:30:22 2019\n",
      "Training until validation scores don't improve for 100 rounds\n",
      "[100]\ttraining's auc: 0.730664\ttraining's auc: 0.730663\tvalid_1's auc: 0.680808\tvalid_1's auc: 0.680807\n",
      "[200]\ttraining's auc: 0.751704\ttraining's auc: 0.751704\tvalid_1's auc: 0.683046\tvalid_1's auc: 0.683046\n",
      "[300]\ttraining's auc: 0.76767\ttraining's auc: 0.76767\tvalid_1's auc: 0.682779\tvalid_1's auc: 0.682779\n",
      "Early stopping, best iteration is:\n",
      "[235]\ttraining's auc: 0.757474\ttraining's auc: 0.757474\tvalid_1's auc: 0.684404\tvalid_1's auc: 0.684403\n",
      "Fold 5 started at Tue Dec 17 17:31:25 2019\n",
      "Training until validation scores don't improve for 100 rounds\n",
      "[100]\ttraining's auc: 0.729842\ttraining's auc: 0.729842\tvalid_1's auc: 0.684167\tvalid_1's auc: 0.684168\n",
      "[200]\ttraining's auc: 0.7501\ttraining's auc: 0.7501\tvalid_1's auc: 0.687172\tvalid_1's auc: 0.687172\n",
      "[300]\ttraining's auc: 0.765466\ttraining's auc: 0.765466\tvalid_1's auc: 0.686372\tvalid_1's auc: 0.686372\n",
      "Early stopping, best iteration is:\n",
      "[214]\ttraining's auc: 0.752432\ttraining's auc: 0.752432\tvalid_1's auc: 0.687456\tvalid_1's auc: 0.687456\n",
      "CV mean score: 0.6946, std: 0.0158.\n",
      "**********\n",
      " Max_depth=4\n",
      "\n",
      "Fold 1 started at Tue Dec 17 17:32:36 2019\n",
      "Training until validation scores don't improve for 100 rounds\n",
      "[100]\ttraining's auc: 0.810869\ttraining's auc: 0.810869\tvalid_1's auc: 0.678523\tvalid_1's auc: 0.678523\n",
      "Early stopping, best iteration is:\n",
      "[65]\ttraining's auc: 0.788632\ttraining's auc: 0.788632\tvalid_1's auc: 0.68008\tvalid_1's auc: 0.68008\n",
      "Fold 2 started at Tue Dec 17 17:33:30 2019\n",
      "Training until validation scores don't improve for 100 rounds\n",
      "[100]\ttraining's auc: 0.80459\ttraining's auc: 0.80459\tvalid_1's auc: 0.725817\tvalid_1's auc: 0.725817\n",
      "Early stopping, best iteration is:\n",
      "[43]\ttraining's auc: 0.760884\ttraining's auc: 0.760884\tvalid_1's auc: 0.728201\tvalid_1's auc: 0.728201\n",
      "Fold 3 started at Tue Dec 17 17:34:22 2019\n",
      "Training until validation scores don't improve for 100 rounds\n",
      "[100]\ttraining's auc: 0.807068\ttraining's auc: 0.807068\tvalid_1's auc: 0.700272\tvalid_1's auc: 0.700272\n",
      "Early stopping, best iteration is:\n",
      "[74]\ttraining's auc: 0.789256\ttraining's auc: 0.789256\tvalid_1's auc: 0.702192\tvalid_1's auc: 0.702192\n",
      "Fold 4 started at Tue Dec 17 17:35:16 2019\n",
      "Training until validation scores don't improve for 100 rounds\n",
      "[100]\ttraining's auc: 0.812637\ttraining's auc: 0.812637\tvalid_1's auc: 0.676312\tvalid_1's auc: 0.676312\n",
      "Early stopping, best iteration is:\n",
      "[33]\ttraining's auc: 0.758112\ttraining's auc: 0.758112\tvalid_1's auc: 0.67978\tvalid_1's auc: 0.679779\n",
      "Fold 5 started at Tue Dec 17 17:36:06 2019\n",
      "Training until validation scores don't improve for 100 rounds\n",
      "[100]\ttraining's auc: 0.812085\ttraining's auc: 0.812085\tvalid_1's auc: 0.680027\tvalid_1's auc: 0.680027\n",
      "Early stopping, best iteration is:\n",
      "[53]\ttraining's auc: 0.780125\ttraining's auc: 0.780125\tvalid_1's auc: 0.683527\tvalid_1's auc: 0.683527\n",
      "CV mean score: 0.6948, std: 0.0187.\n",
      "**********\n",
      " Max_depth=6\n",
      "\n",
      "Fold 1 started at Tue Dec 17 17:37:04 2019\n",
      "Training until validation scores don't improve for 100 rounds\n",
      "[100]\ttraining's auc: 0.880142\ttraining's auc: 0.880142\tvalid_1's auc: 0.678538\tvalid_1's auc: 0.678538\n",
      "[200]\ttraining's auc: 0.931332\ttraining's auc: 0.931332\tvalid_1's auc: 0.674878\tvalid_1's auc: 0.674878\n",
      "Early stopping, best iteration is:\n",
      "[104]\ttraining's auc: 0.881921\ttraining's auc: 0.881921\tvalid_1's auc: 0.679399\tvalid_1's auc: 0.679399\n",
      "Fold 2 started at Tue Dec 17 17:38:02 2019\n",
      "Training until validation scores don't improve for 100 rounds\n",
      "[100]\ttraining's auc: 0.876062\ttraining's auc: 0.876062\tvalid_1's auc: 0.709927\tvalid_1's auc: 0.709927\n",
      "Early stopping, best iteration is:\n",
      "[38]\ttraining's auc: 0.808988\ttraining's auc: 0.808988\tvalid_1's auc: 0.720681\tvalid_1's auc: 0.720681\n",
      "Fold 3 started at Tue Dec 17 17:38:54 2019\n",
      "Training until validation scores don't improve for 100 rounds\n",
      "[100]\ttraining's auc: 0.877623\ttraining's auc: 0.877623\tvalid_1's auc: 0.696138\tvalid_1's auc: 0.696138\n",
      "Early stopping, best iteration is:\n",
      "[42]\ttraining's auc: 0.818695\ttraining's auc: 0.818695\tvalid_1's auc: 0.700976\tvalid_1's auc: 0.700976\n",
      "Fold 4 started at Tue Dec 17 17:39:45 2019\n",
      "Training until validation scores don't improve for 100 rounds\n",
      "[100]\ttraining's auc: 0.881183\ttraining's auc: 0.881183\tvalid_1's auc: 0.667233\tvalid_1's auc: 0.667233\n",
      "Early stopping, best iteration is:\n",
      "[33]\ttraining's auc: 0.80687\ttraining's auc: 0.80687\tvalid_1's auc: 0.677469\tvalid_1's auc: 0.677469\n",
      "Fold 5 started at Tue Dec 17 17:40:35 2019\n",
      "Training until validation scores don't improve for 100 rounds\n",
      "[100]\ttraining's auc: 0.882341\ttraining's auc: 0.882341\tvalid_1's auc: 0.67376\tvalid_1's auc: 0.67376\n",
      "Early stopping, best iteration is:\n",
      "[46]\ttraining's auc: 0.829521\ttraining's auc: 0.829521\tvalid_1's auc: 0.682992\tvalid_1's auc: 0.682992\n",
      "CV mean score: 0.6923, std: 0.0165.\n",
      "**********\n",
      " Max_depth=8\n",
      "\n",
      "Fold 1 started at Tue Dec 17 17:41:35 2019\n",
      "Training until validation scores don't improve for 100 rounds\n",
      "[100]\ttraining's auc: 0.89118\ttraining's auc: 0.89118\tvalid_1's auc: 0.671265\tvalid_1's auc: 0.671265\n",
      "Early stopping, best iteration is:\n",
      "[42]\ttraining's auc: 0.830975\ttraining's auc: 0.830975\tvalid_1's auc: 0.675214\tvalid_1's auc: 0.675214\n",
      "Fold 2 started at Tue Dec 17 17:42:29 2019\n",
      "Training until validation scores don't improve for 100 rounds\n",
      "[100]\ttraining's auc: 0.889813\ttraining's auc: 0.889813\tvalid_1's auc: 0.712047\tvalid_1's auc: 0.712047\n",
      "Early stopping, best iteration is:\n",
      "[31]\ttraining's auc: 0.796876\ttraining's auc: 0.796876\tvalid_1's auc: 0.720575\tvalid_1's auc: 0.720576\n",
      "Fold 3 started at Tue Dec 17 17:43:20 2019\n",
      "Training until validation scores don't improve for 100 rounds\n",
      "[100]\ttraining's auc: 0.890806\ttraining's auc: 0.890806\tvalid_1's auc: 0.694587\tvalid_1's auc: 0.694587\n",
      "Early stopping, best iteration is:\n",
      "[46]\ttraining's auc: 0.835299\ttraining's auc: 0.835299\tvalid_1's auc: 0.703475\tvalid_1's auc: 0.703475\n",
      "Fold 4 started at Tue Dec 17 17:44:14 2019\n",
      "Training until validation scores don't improve for 100 rounds\n",
      "[100]\ttraining's auc: 0.895195\ttraining's auc: 0.895195\tvalid_1's auc: 0.669895\tvalid_1's auc: 0.669895\n",
      "Early stopping, best iteration is:\n",
      "[28]\ttraining's auc: 0.798926\ttraining's auc: 0.798926\tvalid_1's auc: 0.678568\tvalid_1's auc: 0.678568\n",
      "Fold 5 started at Tue Dec 17 17:45:04 2019\n",
      "Training until validation scores don't improve for 100 rounds\n",
      "[100]\ttraining's auc: 0.897068\ttraining's auc: 0.897068\tvalid_1's auc: 0.676081\tvalid_1's auc: 0.676081\n",
      "Early stopping, best iteration is:\n",
      "[35]\ttraining's auc: 0.820486\ttraining's auc: 0.820486\tvalid_1's auc: 0.683893\tvalid_1's auc: 0.683894\n"
     ]
    },
    {
     "name": "stdout",
     "output_type": "stream",
     "text": [
      "CV mean score: 0.6923, std: 0.0172.\n",
      "**********\n",
      " Max_depth=10\n",
      "\n",
      "Fold 1 started at Tue Dec 17 17:46:02 2019\n",
      "Training until validation scores don't improve for 100 rounds\n",
      "[100]\ttraining's auc: 0.89605\ttraining's auc: 0.89605\tvalid_1's auc: 0.669423\tvalid_1's auc: 0.669423\n",
      "Early stopping, best iteration is:\n",
      "[41]\ttraining's auc: 0.831316\ttraining's auc: 0.831316\tvalid_1's auc: 0.675621\tvalid_1's auc: 0.675621\n",
      "Fold 2 started at Tue Dec 17 17:46:54 2019\n",
      "Training until validation scores don't improve for 100 rounds\n",
      "[100]\ttraining's auc: 0.895597\ttraining's auc: 0.895597\tvalid_1's auc: 0.712549\tvalid_1's auc: 0.71255\n",
      "Early stopping, best iteration is:\n",
      "[39]\ttraining's auc: 0.822271\ttraining's auc: 0.822271\tvalid_1's auc: 0.720132\tvalid_1's auc: 0.720131\n",
      "Fold 3 started at Tue Dec 17 17:47:46 2019\n",
      "Training until validation scores don't improve for 100 rounds\n",
      "[100]\ttraining's auc: 0.897868\ttraining's auc: 0.897868\tvalid_1's auc: 0.692066\tvalid_1's auc: 0.692066\n",
      "Early stopping, best iteration is:\n",
      "[29]\ttraining's auc: 0.796613\ttraining's auc: 0.796613\tvalid_1's auc: 0.698213\tvalid_1's auc: 0.698213\n",
      "Fold 4 started at Tue Dec 17 17:48:35 2019\n",
      "Training until validation scores don't improve for 100 rounds\n",
      "[100]\ttraining's auc: 0.904297\ttraining's auc: 0.904297\tvalid_1's auc: 0.666893\tvalid_1's auc: 0.666893\n",
      "Early stopping, best iteration is:\n",
      "[35]\ttraining's auc: 0.821185\ttraining's auc: 0.821184\tvalid_1's auc: 0.679899\tvalid_1's auc: 0.679901\n",
      "Fold 5 started at Tue Dec 17 17:49:26 2019\n",
      "Training until validation scores don't improve for 100 rounds\n",
      "[100]\ttraining's auc: 0.901811\ttraining's auc: 0.901811\tvalid_1's auc: 0.674787\tvalid_1's auc: 0.674787\n",
      "Early stopping, best iteration is:\n",
      "[56]\ttraining's auc: 0.855298\ttraining's auc: 0.855298\tvalid_1's auc: 0.679557\tvalid_1's auc: 0.679557\n",
      "CV mean score: 0.6907, std: 0.0167.\n",
      "**********\n",
      " Max_depth=12\n",
      "\n",
      "Fold 1 started at Tue Dec 17 17:50:27 2019\n",
      "Training until validation scores don't improve for 100 rounds\n",
      "[100]\ttraining's auc: 0.901935\ttraining's auc: 0.901935\tvalid_1's auc: 0.666954\tvalid_1's auc: 0.666954\n",
      "Early stopping, best iteration is:\n",
      "[47]\ttraining's auc: 0.842778\ttraining's auc: 0.842778\tvalid_1's auc: 0.676697\tvalid_1's auc: 0.676697\n",
      "Fold 2 started at Tue Dec 17 17:51:19 2019\n",
      "Training until validation scores don't improve for 100 rounds\n",
      "[100]\ttraining's auc: 0.898566\ttraining's auc: 0.898566\tvalid_1's auc: 0.714879\tvalid_1's auc: 0.714878\n",
      "Early stopping, best iteration is:\n",
      "[31]\ttraining's auc: 0.799886\ttraining's auc: 0.799887\tvalid_1's auc: 0.72316\tvalid_1's auc: 0.723161\n",
      "Fold 3 started at Tue Dec 17 17:52:11 2019\n",
      "Training until validation scores don't improve for 100 rounds\n",
      "[100]\ttraining's auc: 0.897732\ttraining's auc: 0.897732\tvalid_1's auc: 0.690134\tvalid_1's auc: 0.690134\n",
      "Early stopping, best iteration is:\n",
      "[27]\ttraining's auc: 0.796188\ttraining's auc: 0.796189\tvalid_1's auc: 0.701333\tvalid_1's auc: 0.701333\n",
      "Fold 4 started at Tue Dec 17 17:53:00 2019\n",
      "Training until validation scores don't improve for 100 rounds\n",
      "[100]\ttraining's auc: 0.904125\ttraining's auc: 0.904125\tvalid_1's auc: 0.662424\tvalid_1's auc: 0.662424\n",
      "Early stopping, best iteration is:\n",
      "[36]\ttraining's auc: 0.820407\ttraining's auc: 0.820407\tvalid_1's auc: 0.677511\tvalid_1's auc: 0.677512\n",
      "Fold 5 started at Tue Dec 17 17:53:51 2019\n",
      "Training until validation scores don't improve for 100 rounds\n",
      "[100]\ttraining's auc: 0.904653\ttraining's auc: 0.904653\tvalid_1's auc: 0.671119\tvalid_1's auc: 0.671119\n",
      "Early stopping, best iteration is:\n",
      "[34]\ttraining's auc: 0.816464\ttraining's auc: 0.816464\tvalid_1's auc: 0.682255\tvalid_1's auc: 0.682255\n",
      "CV mean score: 0.6922, std: 0.0179.\n",
      "**********\n",
      " Max_depth=14\n",
      "\n",
      "Fold 1 started at Tue Dec 17 17:54:48 2019\n",
      "Training until validation scores don't improve for 100 rounds\n",
      "[100]\ttraining's auc: 0.903282\ttraining's auc: 0.903282\tvalid_1's auc: 0.671464\tvalid_1's auc: 0.671463\n",
      "Early stopping, best iteration is:\n",
      "[32]\ttraining's auc: 0.810611\ttraining's auc: 0.810611\tvalid_1's auc: 0.675779\tvalid_1's auc: 0.67578\n",
      "Fold 2 started at Tue Dec 17 17:55:39 2019\n",
      "Training until validation scores don't improve for 100 rounds\n",
      "[100]\ttraining's auc: 0.900984\ttraining's auc: 0.900984\tvalid_1's auc: 0.713998\tvalid_1's auc: 0.713998\n",
      "Early stopping, best iteration is:\n",
      "[32]\ttraining's auc: 0.804053\ttraining's auc: 0.804052\tvalid_1's auc: 0.72533\tvalid_1's auc: 0.72533\n",
      "Fold 3 started at Tue Dec 17 17:56:30 2019\n"
     ]
    }
   ],
   "source": [
    "import datetime\n",
    "\n",
    "NFOLDS = 5\n",
    "folds = GroupKFold(n_splits=NFOLDS)\n",
    "\n",
    "for max_depth in range(2,20,2):\n",
    "    print(f\"**********\\n Max_depth={max_depth}\\n\")\n",
    "    params = {\n",
    "              'objective': 'binary',\n",
    "              \"metric\": 'auc',\n",
    "              \"verbosity\": -1,\n",
    "              'random_state':0,\n",
    "              'max_depth': max_depth\n",
    "             }\n",
    "    train_options = {\n",
    "            \"model_type\":'lgb',\n",
    "            \"params\": params,\n",
    "            \"eval_metric\":'auc',\n",
    "            'early_stopping_rounds': 100,\n",
    "            'n_estimators': 500,\n",
    "            'averaging': 'rank',\n",
    "            'use_groups': False,\n",
    "            'fold_name': folds.__class__.__name__,\n",
    "            'n_splits': NFOLDS,\n",
    "\n",
    "        }\n",
    "\n",
    "\n",
    "    result_dict = train_model_classification_vb( X=X, \n",
    "                                                 X_test=test, \n",
    "                                                 columns=train_features,\n",
    "                                                 y=y, \n",
    "                                                 params=params, folds=folds,\n",
    "                                                 model_type=train_options['model_type'], \n",
    "                                                 plot_feature_importance=True,\n",
    "                                                 verbose=100, early_stopping_rounds=train_options['early_stopping_rounds'],\n",
    "                                                 n_estimators=train_options['n_estimators'], \n",
    "                                                 averaging=train_options['averaging'],\n",
    "                                                 groups=X['userid'],\n",
    "                                                 n_jobs=-1)\n",
    "    results[max_depth] = result_dict\n",
    "    pickle.dump(results, open('temp/max_depth.pkl','wb'))\n",
    "    \n",
    "    t = datetime.datetime.now().strftime(\"%m-%d-%H-%M\")\n",
    "    test['proba'] = result_dict['prediction']\n",
    "    sub = pd.read_csv('data/onetwotrip_challenge_sub1.csv')\n",
    "    sub['proba'] = test['proba'] / test['proba'].max()\n",
    "    sub.reset_index(drop=True).set_index('orderid').to_csv(f'temp/submission_depth={max_depth}-{t}.csv')"
   ]
  },
  {
   "cell_type": "code",
   "execution_count": 12,
   "metadata": {
    "ExecuteTime": {
     "end_time": "2019-12-17T14:26:44.232770Z",
     "start_time": "2019-12-17T14:26:42.678683Z"
    }
   },
   "outputs": [],
   "source": [
    "CV mean score: 0.6925, std: 0.0178.\n",
    "sub.reset_index(drop=True).set_index('orderid').to_csv(f'temp/submission_depth={max_depth}-{t}.csv')"
   ]
  },
  {
   "cell_type": "code",
   "execution_count": 21,
   "metadata": {
    "ExecuteTime": {
     "end_time": "2019-12-17T13:50:56.698849Z",
     "start_time": "2019-12-17T13:50:56.684872Z"
    }
   },
   "outputs": [
    {
     "name": "stdout",
     "output_type": "stream",
     "text": [
      "0 [0.6764080531918433, 0.7253302297489943, 0.7011452480307342, 0.6805495522257086, 0.6833038734198107]\n",
      "1 [0.6764080531918433, 0.7253302297489943, 0.7011452480307342, 0.6805495522257086, 0.6833038734198107]\n",
      "2 [0.6764080531918433, 0.7253302297489943, 0.7011452480307342, 0.6805495522257086, 0.6833038734198107]\n",
      "3 [0.6764080531918433, 0.7253302297489943, 0.7011452480307342, 0.6805495522257086, 0.6833038734198107]\n",
      "4 [0.6764080531918433, 0.7253302297489943, 0.7011452480307342, 0.6805495522257086, 0.6833038734198107]\n",
      "5 [0.6764080531918433, 0.7253302297489943, 0.7011452480307342, 0.6805495522257086, 0.6833038734198107]\n",
      "6 [0.6764080531918433, 0.7253302297489943, 0.7011452480307342, 0.6805495522257086, 0.6833038734198107]\n",
      "7 [0.6764080531918433, 0.7253302297489943, 0.7011452480307342, 0.6805495522257086, 0.6833038734198107]\n",
      "8 [0.6764080531918433, 0.7253302297489943, 0.7011452480307342, 0.6805495522257086, 0.6833038734198107]\n",
      "9 [0.6764080531918433, 0.7253302297489943, 0.7011452480307342, 0.6805495522257086, 0.6833038734198107]\n"
     ]
    }
   ],
   "source": [
    "for k,v in results.items():\n",
    "    print (k, v['scores'])"
   ]
  }
 ],
 "metadata": {
  "kernelspec": {
   "display_name": "Python 3",
   "language": "python",
   "name": "python3"
  },
  "language_info": {
   "codemirror_mode": {
    "name": "ipython",
    "version": 3
   },
   "file_extension": ".py",
   "mimetype": "text/x-python",
   "name": "python",
   "nbconvert_exporter": "python",
   "pygments_lexer": "ipython3",
   "version": "3.6.5"
  },
  "toc": {
   "base_numbering": 1,
   "nav_menu": {},
   "number_sections": true,
   "sideBar": true,
   "skip_h1_title": false,
   "title_cell": "Table of Contents",
   "title_sidebar": "Contents",
   "toc_cell": false,
   "toc_position": {},
   "toc_section_display": true,
   "toc_window_display": false
  },
  "varInspector": {
   "cols": {
    "lenName": 16,
    "lenType": 16,
    "lenVar": 40
   },
   "kernels_config": {
    "python": {
     "delete_cmd_postfix": "",
     "delete_cmd_prefix": "del ",
     "library": "var_list.py",
     "varRefreshCmd": "print(var_dic_list())"
    },
    "r": {
     "delete_cmd_postfix": ") ",
     "delete_cmd_prefix": "rm(",
     "library": "var_list.r",
     "varRefreshCmd": "cat(var_dic_list()) "
    }
   },
   "position": {
    "height": "353px",
    "left": "1522px",
    "right": "20px",
    "top": "120px",
    "width": "344px"
   },
   "types_to_exclude": [
    "module",
    "function",
    "builtin_function_or_method",
    "instance",
    "_Feature"
   ],
   "window_display": true
  }
 },
 "nbformat": 4,
 "nbformat_minor": 2
}
